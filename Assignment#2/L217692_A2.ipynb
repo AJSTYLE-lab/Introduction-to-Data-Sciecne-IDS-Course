{
  "cells": [
    {
      "cell_type": "markdown",
      "source": [
        "# Introduction To Data Science – Assignment 2\n",
        "\n",
        "---\n",
        "\n",
        "#### Sections A – B – C – D\n",
        "\n",
        "---\n",
        "\n",
        "##***Instructions: Read These Carefully Before Starting!***\n",
        "\n",
        "1. Due Date: Thursday 20th October 2022 – 11:59PM\n",
        "\n",
        "2. **Name the file in the format Lyyxxxx_A2.ipynb and save it as .ipynb (e.g. L216666_A2.ipynb)**\n",
        "\n",
        "3. Submission will be taken on Google Classroom (**submit SINGLE .ipynb file ONLY**)\n",
        "\n",
        "4. **Assignment will not be evaluated if**:\n",
        "\n",
        "> * You submit python (.py) files\n",
        "> * You submit multiple .ipynb files\n",
        "> * You submit compressed (.rar or .zip) files\n",
        "\n",
        "5. **Work in the spaces provided and do not delete/modify any cells from this template.**\n",
        "\n",
        "6. Upload data files directly to Google Colab - do not use Google Drive or GitHub linking method\n",
        "\n",
        "*Not following these instructions will lead to mark deduction.*\n",
        "\n",
        "---\n",
        "\n",
        "All source files needed to complete this assignment can be found on the following [Google Drive link](https://drive.google.com/drive/folders/1qBib_6ZOhvHb73ZRLWiCMWl9NFyU1IDO?usp=sharing). Download these files and upload them to your Google Colab Notebook. \n",
        "\n",
        "**Do not link Google Drive or GitHub with Colab.**\n",
        "\n",
        "**Do not add these files with your submission on Google Classroom.**\n",
        "\n",
        "---\n",
        "\n",
        "Happy Coding 🌺\n",
        "\n",
        "---\n",
        "\n",
        "TA Emails\n",
        "\n",
        "Section A, C - Muhammad Maarij l192347@lhr.nu.edu.pk\n",
        "\n",
        "Section B, D - Hira Ijaz l192377@lhr.nu.edu.pk\n",
        "\n",
        "---"
      ],
      "metadata": {
        "id": "TWWLTwYZorzC"
      }
    },
    {
      "cell_type": "markdown",
      "source": [
        "---\n",
        "## Question 0\n",
        "\n",
        "Add all library imports here"
      ],
      "metadata": {
        "id": "mwtAOew56gkd"
      }
    },
    {
      "cell_type": "code",
      "source": [
        "import pandas as pd\n",
        "import numpy as np\n",
        "import matplotlib.pyplot as plt"
      ],
      "metadata": {
        "id": "swlE8Tvq6g2u"
      },
      "execution_count": null,
      "outputs": []
    },
    {
      "cell_type": "markdown",
      "metadata": {
        "id": "ZR8C9ctqsy3V"
      },
      "source": [
        "---\n",
        "## Question 1\n",
        "\n",
        "####Single Linear Regression with Gradient Descent\n",
        "\n",
        "> Take help from slides 26 and 30\n",
        "---"
      ]
    },
    {
      "cell_type": "markdown",
      "metadata": {
        "id": "DzGOilP7sy3Y"
      },
      "source": [
        "**Part A -**\n",
        "Write a function that calculates and returns value for hypothesis $h_\\theta(x)$"
      ]
    },
    {
      "cell_type": "code",
      "execution_count": null,
      "metadata": {
        "collapsed": true,
        "id": "3bczSIhosy3Z"
      },
      "outputs": [],
      "source": [
        "# complete this function implementation\n",
        "def hypothesis(x, theta):\n",
        "  hypothesis_x=theta[0]+theta[1]*x\n",
        "  return hypothesis_x"
      ]
    },
    {
      "cell_type": "markdown",
      "metadata": {
        "id": "dXORHsxSsy3a"
      },
      "source": [
        "**Part B -**\n",
        "Write a function that calculates and returns value for loss/cost $J(\\theta_0, \\theta_1)$"
      ]
    },
    {
      "cell_type": "code",
      "execution_count": null,
      "metadata": {
        "collapsed": true,
        "id": "__DPftoLsy3c"
      },
      "outputs": [],
      "source": [
        "# complete this function implementation\n",
        "def loss(hypothesis_x, y):\n",
        "  SLOPE=len(hypothesis_x)\n",
        "  ans=np.sum((hypothesis_x-y)**2)*(0.5*SLOPE)\n",
        "  return ans"
      ]
    },
    {
      "cell_type": "markdown",
      "metadata": {
        "id": "WjWa6pMGsy3d"
      },
      "source": [
        "**Part C-**\n",
        "Write a function that applies the gradient descent algorithm and updates values of $\\theta_0$ and $\\theta_1$ until they converge.\n",
        "\n",
        "* take default vaue of $α$ to be 0.015\n",
        "* take default number of iterations to be 15000\n",
        "* print loss after every 500 iterations"
      ]
    },
    {
      "cell_type": "code",
      "execution_count": null,
      "metadata": {
        "collapsed": true,
        "id": "U7qtzuCWsy3e"
      },
      "outputs": [],
      "source": [
        "# complete this function implementation\n",
        "def gradientDescent(x, y, theta, numIterations=15000, alpha=0.015):\n",
        "  slope=len(x)\n",
        "  count=0\n",
        "  Loss=[]\n",
        "  while(count<numIterations):\n",
        "      y_pred=hypothesis(x,theta)\n",
        "      theta[0]=theta[0]-(alpha)*((1/slope)*sum(y_pred-y))\n",
        "      theta[1]=theta[1]-(alpha)*((1/slope)*(np.sum((y_pred-y)*x)))\n",
        "      count=count+1\n",
        "      if(count%500==0):\n",
        "        Loss=loss(y_pred,y)\n",
        "        print(Loss)\n"
      ]
    },
    {
      "cell_type": "markdown",
      "metadata": {
        "id": "0zwvS5cqsy3g"
      },
      "source": [
        "**Part D -**\n",
        "FactoryRevenue.csv contains information about the number of workers in a factory and the annual profit for that factory. Import the file FactoryRevenue.csv as a Pandas DataSet and print out the information for it."
      ]
    },
    {
      "cell_type": "code",
      "execution_count": null,
      "metadata": {
        "collapsed": true,
        "id": "Uef-aGHisy3h",
        "colab": {
          "base_uri": "https://localhost:8080/"
        },
        "outputId": "2786cc8e-8199-4d44-f901-6919d2ee5d5e"
      },
      "outputs": [
        {
          "output_type": "stream",
          "name": "stdout",
          "text": [
            "    TotalFactoryWorkers  AnnualProfit\n",
            "0                6.5894        5.9966\n",
            "1                9.2482       12.1340\n",
            "2                5.8918        1.8495\n",
            "3                8.2111        6.5426\n",
            "4                7.9334        4.5623\n",
            "..                  ...           ...\n",
            "94               5.5416        1.0179\n",
            "95               7.5402        6.7504\n",
            "96               5.3077        1.8396\n",
            "97               7.4239        4.2885\n",
            "98               7.6031        4.9981\n",
            "\n",
            "[99 rows x 2 columns]\n"
          ]
        },
        {
          "output_type": "execute_result",
          "data": {
            "text/plain": [
              "<bound method DataFrame.info of     TotalFactoryWorkers  AnnualProfit\n",
              "0                6.5894        5.9966\n",
              "1                9.2482       12.1340\n",
              "2                5.8918        1.8495\n",
              "3                8.2111        6.5426\n",
              "4                7.9334        4.5623\n",
              "..                  ...           ...\n",
              "94               5.5416        1.0179\n",
              "95               7.5402        6.7504\n",
              "96               5.3077        1.8396\n",
              "97               7.4239        4.2885\n",
              "98               7.6031        4.9981\n",
              "\n",
              "[99 rows x 2 columns]>"
            ]
          },
          "metadata": {},
          "execution_count": 5
        }
      ],
      "source": [
        "d=pd.read_csv(\"Update_FactoryRevenue.csv\")\n",
        "print(d)\n",
        "d.info"
      ]
    },
    {
      "cell_type": "markdown",
      "metadata": {
        "id": "yv9_dDiw65o8"
      },
      "source": [
        "**Part E -**\n",
        "Remove rows that have any null values"
      ]
    },
    {
      "cell_type": "code",
      "source": [
        "#d=pd.DataFrame(d,index=None)\n",
        "d=d.dropna()\n",
        "print(d)\n",
        "rows=len(d.axes[0])\n",
        "print(\"total rows=\",rows)\n",
        "pd.set_option(\"display.max_rows\",None,\"display.max_columns\",None)\n",
        "print(d)"
      ],
      "metadata": {
        "id": "qNJTrefu5njV",
        "colab": {
          "base_uri": "https://localhost:8080/"
        },
        "outputId": "c6d66494-1f8e-4caf-ea88-2988f8e90d7f"
      },
      "execution_count": null,
      "outputs": [
        {
          "output_type": "stream",
          "name": "stdout",
          "text": [
            "    TotalFactoryWorkers  AnnualProfit\n",
            "0                6.5894        5.9966\n",
            "1                9.2482       12.1340\n",
            "2                5.8918        1.8495\n",
            "3                8.2111        6.5426\n",
            "4                7.9334        4.5623\n",
            "..                  ...           ...\n",
            "94               5.5416        1.0179\n",
            "95               7.5402        6.7504\n",
            "96               5.3077        1.8396\n",
            "97               7.4239        4.2885\n",
            "98               7.6031        4.9981\n",
            "\n",
            "[97 rows x 2 columns]\n",
            "total rows= 97\n",
            "    TotalFactoryWorkers  AnnualProfit\n",
            "0                6.5894       5.99660\n",
            "1                9.2482      12.13400\n",
            "2                5.8918       1.84950\n",
            "3                8.2111       6.54260\n",
            "4                7.9334       4.56230\n",
            "5                8.0959       4.11640\n",
            "6                5.6063       3.39280\n",
            "7               12.8360      10.11700\n",
            "8                6.3534       5.49740\n",
            "9                6.3328       1.42330\n",
            "10               6.3589      -1.42110\n",
            "11               6.2742       2.47560\n",
            "12               5.6397       4.60420\n",
            "13               9.3102       3.96240\n",
            "14               9.4536       5.41410\n",
            "15               8.8254       5.16940\n",
            "16               5.1793      -0.74279\n",
            "17              21.2790      17.92900\n",
            "18              14.9080      12.05400\n",
            "19              18.9590      17.05400\n",
            "20               7.2182       4.88520\n",
            "21               8.2951       5.74420\n",
            "22              10.2360       7.77540\n",
            "23               5.4994       1.01730\n",
            "24              20.3410      20.99200\n",
            "25              10.1360       6.67990\n",
            "26               6.1101      17.59200\n",
            "27               5.5277       9.13020\n",
            "28               8.5186      13.66200\n",
            "29               7.0032      11.85400\n",
            "30               5.8598       6.82330\n",
            "31               8.3829      11.88600\n",
            "32               7.4764       4.34830\n",
            "33               8.5781      12.00000\n",
            "34               6.4862       6.59870\n",
            "35               5.0546       3.81660\n",
            "36               5.7107       3.25220\n",
            "37              14.1640      15.50500\n",
            "38               5.7340       3.15510\n",
            "39               8.4084       7.22580\n",
            "40               5.6407       0.71618\n",
            "41               5.3794       3.51290\n",
            "42               6.3654       5.30480\n",
            "43               5.1301       0.56077\n",
            "44               6.4296       3.65180\n",
            "45               7.0708       5.38930\n",
            "46               6.1891       3.13860\n",
            "47              20.2700      21.76700\n",
            "48               5.4901       4.26300\n",
            "49               6.3261       5.18750\n",
            "50               5.5649       3.08250\n",
            "51              18.9450      22.63800\n",
            "52              12.8280      13.50100\n",
            "53              10.9570       7.04670\n",
            "54              13.1760      14.69200\n",
            "55              22.2030      24.14700\n",
            "56               5.2524      -1.22000\n",
            "57               9.1802       6.79810\n",
            "58               6.0020       0.92695\n",
            "59               5.5204       0.15200\n",
            "60               5.0594       2.82140\n",
            "61               5.7077       1.84510\n",
            "62               7.6366       4.29590\n",
            "63               5.8707       7.20290\n",
            "65               5.3054       1.98690\n",
            "66               8.2934       0.14454\n",
            "67              13.3940       9.05510\n",
            "68               5.4369       0.61705\n",
            "69               7.3345       4.02590\n",
            "70               6.0062       1.27840\n",
            "71               7.2259       3.34110\n",
            "72               5.0269      -2.68070\n",
            "73               6.5479       0.29678\n",
            "74               7.5386       3.88450\n",
            "75               5.0365       5.70140\n",
            "76              10.2740       6.75260\n",
            "77               5.1077       2.05760\n",
            "78               5.7292       0.47953\n",
            "79               5.1884       0.20421\n",
            "80               6.3557       0.67861\n",
            "81               9.7687       7.54350\n",
            "82               6.5159       5.34360\n",
            "83               8.5172       4.24150\n",
            "84               5.4069       0.55657\n",
            "85               6.8825       3.91150\n",
            "86              11.7080       5.38540\n",
            "87               5.7737       2.44060\n",
            "88               7.8247       6.73180\n",
            "89               7.0931       1.04630\n",
            "91               5.0702       5.13370\n",
            "92               5.8014       1.84400\n",
            "93              11.7000       8.00430\n",
            "94               5.5416       1.01790\n",
            "95               7.5402       6.75040\n",
            "96               5.3077       1.83960\n",
            "97               7.4239       4.28850\n",
            "98               7.6031       4.99810\n"
          ]
        }
      ]
    },
    {
      "cell_type": "markdown",
      "metadata": {
        "id": "u0Y68nh87HJX"
      },
      "source": [
        "**Part F -**\n",
        "\n",
        "First identify the independant and dependant variables. \n",
        "\n",
        "Then create two arrays named x and y and add independant variable data to array x, dependant variable data to array y."
      ]
    },
    {
      "cell_type": "code",
      "source": [
        "#independent variable=total factory workers (x)\n",
        "#dependent variable=annual profit (y)\n",
        "X=d[\"TotalFactoryWorkers\"]\n",
        "Y=d[\"AnnualProfit\"]\n"
      ],
      "metadata": {
        "id": "RPwFmC4K5pYz"
      },
      "execution_count": null,
      "outputs": []
    },
    {
      "cell_type": "markdown",
      "metadata": {
        "id": "8vRXmn9z8H4q"
      },
      "source": [
        "**Part G -** \n",
        "\n",
        "Create an array called 'theta' that will hold $θ_0$ and $θ_1$. Initalize both values to 0.\n",
        "\n",
        "Then call the gradientDescent function using array x, array y, and array theta. Do not provide any other input parameters.\n",
        "\n",
        "Print out the values of y-intercept and slope/gradient"
      ]
    },
    {
      "cell_type": "code",
      "source": [
        "theta=[0,0]\n",
        "print(\"COST_VALUE=\")\n",
        "gradientDescent(X,Y,theta,15000,0.015)\n",
        "slOPE=theta[1]\n",
        "inteRcept=theta[0]\n",
        "print(\"SLOPE=\",slOPE)\n",
        "print(\"INTERCEPT=\",inteRcept)"
      ],
      "metadata": {
        "id": "ueLT-L0Z5q3V",
        "colab": {
          "base_uri": "https://localhost:8080/"
        },
        "outputId": "d3f09d47-5280-40cc-a738-7f5239c55d4c"
      },
      "execution_count": null,
      "outputs": [
        {
          "output_type": "stream",
          "name": "stdout",
          "text": [
            "COST_VALUE=\n",
            "43031.71565465931\n",
            "42184.379736652394\n",
            "42127.86274342569\n",
            "42124.0930808214\n",
            "42123.84164571597\n",
            "42123.824875087164\n",
            "42123.823756492406\n",
            "42123.82368188256\n",
            "42123.823676906104\n",
            "42123.823676574175\n",
            "42123.823676552034\n",
            "42123.823676550564\n",
            "42123.82367655046\n",
            "42123.82367655046\n",
            "42123.82367655046\n",
            "42123.82367655046\n",
            "42123.823676550455\n",
            "42123.823676550455\n",
            "42123.82367655045\n",
            "42123.823676550455\n",
            "42123.82367655046\n",
            "42123.823676550455\n",
            "42123.82367655045\n",
            "42123.82367655045\n",
            "42123.82367655045\n",
            "42123.82367655045\n",
            "42123.82367655045\n",
            "42123.82367655045\n",
            "42123.82367655045\n",
            "42123.82367655045\n",
            "SLOPE= 1.1930336441895852\n",
            "INTERCEPT= -3.895780878311771\n"
          ]
        }
      ]
    },
    {
      "cell_type": "markdown",
      "metadata": {
        "id": "lksKYteB9NOx"
      },
      "source": [
        "**Part H -** Plot a scatter plot and regression line on the same graph"
      ]
    },
    {
      "cell_type": "code",
      "source": [
        "plt.scatter(d[\"TotalFactoryWorkers\"],d[\"AnnualProfit\"],color=\"BLACK\")\n",
        "plt.plot(d[\"TotalFactoryWorkers\"],theta[1]*X+theta[0],color=\"RED\")\n",
        "plt.xlabel(\"TOTAL_FACTORY_WORKERS\")\n",
        "plt.ylabel(\"ANNUAL_PROFIT\")\n",
        "plt.title(\"SCATTER PLOT + BEST FIT LINE\")\n",
        "plt.show()"
      ],
      "metadata": {
        "id": "Jdah8R6L9XSl",
        "colab": {
          "base_uri": "https://localhost:8080/",
          "height": 296
        },
        "outputId": "82a9d184-99b4-4a06-9b18-2601f33c7dd5"
      },
      "execution_count": null,
      "outputs": [
        {
          "output_type": "display_data",
          "data": {
            "text/plain": [
              "<Figure size 432x288 with 1 Axes>"
            ],
            "image/png": "[encoded data removed]"
          },
          "metadata": {
            "needs_background": "light"
          }
        }
      ]
    },
    {
      "cell_type": "markdown",
      "source": [
        "---\n",
        "## Question 2\n",
        "\n",
        "Logistic Regression on Flowers Dataset\n",
        "\n",
        "---\n",
        "\n"
      ],
      "metadata": {
        "id": "upsln2T-38-M"
      }
    },
    {
      "cell_type": "markdown",
      "source": [
        "**Part A** - Load the file FlowersData.csv and describe the dataset"
      ],
      "metadata": {
        "id": "plh_l8AV4MU5"
      }
    },
    {
      "cell_type": "code",
      "source": [
        "import pandas as pd\n",
        "import numpy as np\n",
        "dff=pd.read_csv(\"FlowersData.csv\")\n",
        "dff.info"
      ],
      "metadata": {
        "id": "p7Cgq8di3771"
      },
      "execution_count": null,
      "outputs": []
    },
    {
      "cell_type": "markdown",
      "source": [
        "**Part B** - Split data into training and test data using SKLearn train_test_split. Specify parameter test_size to be 25%\n",
        "\n",
        "Hint: You will be needing 4 arrays: X_train, X_test, y_train, y_test"
      ],
      "metadata": {
        "id": "7LsiIV9n4QMz"
      }
    },
    {
      "cell_type": "code",
      "source": [
        "from sklearn.model_selection import train_test_split\n",
        "x=dff.iloc[:,:4].values\n",
        "y=dff[\"flower_name\"]\n",
        "x_train,x_test,y_train,y_test=train_test_split(x,y,test_size=0.25)"
      ],
      "metadata": {
        "id": "f49YQ4GT4k5s"
      },
      "execution_count": null,
      "outputs": []
    },
    {
      "cell_type": "markdown",
      "source": [
        "**Part C** - Perform scaling on the X_test and X_train values using StandardScacler from SKLearn Library"
      ],
      "metadata": {
        "id": "Ez5Fa2ePDzXu"
      }
    },
    {
      "cell_type": "code",
      "source": [
        "from sklearn.preprocessing import StandardScaler\n",
        "object=StandardScaler()\n",
        "x_train=object.fit_transform(x_train)\n",
        "x_test=object.transform(x_test)\n"
      ],
      "metadata": {
        "id": "97-2bUgtDzXv"
      },
      "execution_count": null,
      "outputs": []
    },
    {
      "cell_type": "markdown",
      "source": [
        "**Part D** - Train Model using SKLearn LogisticRegression"
      ],
      "metadata": {
        "id": "E9BlQYh54lLX"
      }
    },
    {
      "cell_type": "code",
      "source": [
        "from sklearn.linear_model import LogisticRegression\n",
        "logistic_r=LogisticRegression(random_state=82)\n",
        "logistic_r.fit(x_train,y_train)"
      ],
      "metadata": {
        "id": "hD_MUVu64xkw",
        "colab": {
          "base_uri": "https://localhost:8080/"
        },
        "outputId": "3fdf798a-d00f-496e-b0ee-7cc8fab00aef"
      },
      "execution_count": null,
      "outputs": [
        {
          "output_type": "execute_result",
          "data": {
            "text/plain": [
              "LogisticRegression(random_state=82)"
            ]
          },
          "metadata": {},
          "execution_count": 40
        }
      ]
    },
    {
      "cell_type": "markdown",
      "source": [
        "**Part E** - Predict Labels for test split"
      ],
      "metadata": {
        "id": "-HKhBOzW4xSx"
      }
    },
    {
      "cell_type": "code",
      "source": [
        "y_pred=logistic_r.predict(x_test)\n",
        "#print(y_pred)\n"
      ],
      "metadata": {
        "id": "IqpPKB1M5G4G"
      },
      "execution_count": null,
      "outputs": []
    },
    {
      "cell_type": "markdown",
      "source": [
        "---\n",
        "## Question 3\n",
        "\n",
        "Confusion Matrix Construction\n",
        "\n",
        "---"
      ],
      "metadata": {
        "id": "34It-TAowlCw"
      }
    },
    {
      "cell_type": "markdown",
      "source": [
        "**Part A** - Using the prediction result of logistic regression (Question 2) construct a confusion matrix using SKLearn confusion_matrix\n",
        "\n",
        "Print out this confusion matrix"
      ],
      "metadata": {
        "id": "vi_ix0XsxF8x"
      }
    },
    {
      "cell_type": "code",
      "source": [
        "from sklearn.metrics import confusion_matrix\n",
        "matrix=confusion_matrix(y_pred,y_test)\n",
        "print(matrix)"
      ],
      "metadata": {
        "id": "o23T4fDsxD-L",
        "colab": {
          "base_uri": "https://localhost:8080/"
        },
        "outputId": "15738534-d54a-4697-f080-cf3a16674952"
      },
      "execution_count": null,
      "outputs": [
        {
          "output_type": "stream",
          "name": "stdout",
          "text": [
            "[[10  0  0]\n",
            " [ 0 13  0]\n",
            " [ 1  0 14]]\n"
          ]
        }
      ]
    },
    {
      "cell_type": "markdown",
      "source": [
        "**Part B** - Calculate and print Accuracy"
      ],
      "metadata": {
        "id": "JlYB9BY4xEh1"
      }
    },
    {
      "cell_type": "code",
      "source": [
        "from sklearn.metrics import accuracy_score\n",
        "accuracy_score(y_pred,y_test)"
      ],
      "metadata": {
        "id": "cupearHPxUKj",
        "colab": {
          "base_uri": "https://localhost:8080/"
        },
        "outputId": "e3d9105e-5be2-453d-f1da-50eb51cdd24c"
      },
      "execution_count": null,
      "outputs": [
        {
          "output_type": "execute_result",
          "data": {
            "text/plain": [
              "0.9736842105263158"
            ]
          },
          "metadata": {},
          "execution_count": 43
        }
      ]
    },
    {
      "cell_type": "markdown",
      "source": [
        "**Part C** - Calculate and print Recall"
      ],
      "metadata": {
        "id": "RvEXBB3CxUk-"
      }
    },
    {
      "cell_type": "code",
      "source": [
        "from sklearn.metrics import recall_score\n",
        "recall_score(y_test,y_pred,average=\"micro\")\n",
        "#if i remove macro then the values are same with other frnds\n"
      ],
      "metadata": {
        "id": "PyBufaj8xbKC",
        "colab": {
          "base_uri": "https://localhost:8080/"
        },
        "outputId": "a03ebd8c-29bc-4f50-f070-328040f5f042"
      },
      "execution_count": null,
      "outputs": [
        {
          "output_type": "execute_result",
          "data": {
            "text/plain": [
              "0.9736842105263158"
            ]
          },
          "metadata": {},
          "execution_count": 44
        }
      ]
    },
    {
      "cell_type": "markdown",
      "source": [
        "**Part D** - Calculate and print Precision"
      ],
      "metadata": {
        "id": "W6BgzGjMxbfu"
      }
    },
    {
      "cell_type": "code",
      "source": [
        "from sklearn.metrics import precision_score\n",
        "p=precision_score(y_test,y_pred,average=\"macro\")\n",
        "print(p)"
      ],
      "metadata": {
        "id": "gHJg8C-1xg_6",
        "colab": {
          "base_uri": "https://localhost:8080/"
        },
        "outputId": "e14707c1-2d60-4619-a10d-d72bf3f0f8c8"
      },
      "execution_count": null,
      "outputs": [
        {
          "output_type": "stream",
          "name": "stdout",
          "text": [
            "0.9777777777777779\n"
          ]
        }
      ]
    },
    {
      "cell_type": "markdown",
      "source": [
        "**Part E** - Calculate and print $𝐹_1$ Score"
      ],
      "metadata": {
        "id": "6RPHz7hVxhbk"
      }
    },
    {
      "cell_type": "code",
      "source": [
        "from sklearn.metrics import f1_score\n",
        "f1_score(y_test,y_pred,average=\"macro\")\n"
      ],
      "metadata": {
        "id": "NmwjCpMixmeJ",
        "colab": {
          "base_uri": "https://localhost:8080/"
        },
        "outputId": "23d2788a-6403-444f-a5f4-de7f3db1c292"
      },
      "execution_count": null,
      "outputs": [
        {
          "output_type": "execute_result",
          "data": {
            "text/plain": [
              "0.9726327312534209"
            ]
          },
          "metadata": {},
          "execution_count": 46
        }
      ]
    }
  ],
  "metadata": {
    "celltoolbar": "Slideshow",
    "kernelspec": {
      "display_name": "Python 3",
      "language": "python",
      "name": "python3"
    },
    "language_info": {
      "codemirror_mode": {
        "name": "ipython",
        "version": 3
      },
      "file_extension": ".py",
      "mimetype": "text/x-python",
      "name": "python",
      "nbconvert_exporter": "python",
      "pygments_lexer": "ipython3",
      "version": "3.5.1"
    },
    "colab": {
      "provenance": []
    }
  },
  "nbformat": 4,
  "nbformat_minor": 0
}