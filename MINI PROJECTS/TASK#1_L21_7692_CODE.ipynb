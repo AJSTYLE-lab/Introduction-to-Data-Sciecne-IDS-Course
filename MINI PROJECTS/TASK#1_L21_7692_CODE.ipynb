{
  "cells": [
    {
      "cell_type": "markdown",
      "metadata": {
        "id": "view-in-github",
        "colab_type": "text"
      },
      "source": [
        "<a href=\"https://colab.research.google.com/github/AJSTYLE-lab/Introduction-to-Data-Sciecne-IDS-Course/blob/main/MINI%20PROJECTS/TASK%231_L21_7692_CODE.ipynb\" target=\"_parent\"><img src=\"https://colab.research.google.com/assets/colab-badge.svg\" alt=\"Open In Colab\"/></a>"
      ]
    },
    {
      "cell_type": "markdown",
      "metadata": {
        "id": "rstoNgJ5PQZO"
      },
      "source": [
        "# IMPORTING LIBRARIES"
      ]
    },
    {
      "cell_type": "code",
      "execution_count": null,
      "metadata": {
        "id": "wsfm4hB5PQZU"
      },
      "outputs": [],
      "source": [
        "from sklearn.model_selection import KFold\n",
        "\n",
        "import numpy as np\n",
        "import matplotlib.pyplot as plt\n",
        "import seaborn as sns\n",
        "from sklearn.preprocessing import MinMaxScaler\n",
        "from sklearn.feature_selection import VarianceThreshold\n",
        "from sklearn.metrics import confusion_matrix\n",
        "from sklearn.linear_model import LinearRegression\n",
        "from sklearn.linear_model import LogisticRegression\n",
        "from sklearn.model_selection import cross_val_score\n",
        "from sklearn.feature_selection import SequentialFeatureSelector as sfs\n",
        "import pandas as pd\n",
        "from sklearn.model_selection import train_test_split\n",
        "from sklearn.metrics import accuracy_score\n"
      ]
    },
    {
      "cell_type": "markdown",
      "source": [
        "#IMPORTING .xlsx FILE"
      ],
      "metadata": {
        "id": "pWdFQ4YUPWnW"
      }
    },
    {
      "cell_type": "code",
      "execution_count": null,
      "metadata": {
        "id": "F29VeFRmPQZW"
      },
      "outputs": [],
      "source": [
        "file=pd.read_excel(\"CollectedData.xlsx\",\"Sheet2\")\n",
        "column = list(file.columns)"
      ]
    },
    {
      "cell_type": "markdown",
      "source": [
        "DELETING COLUMNS"
      ],
      "metadata": {
        "id": "RnUAmpcDPwY2"
      }
    },
    {
      "cell_type": "code",
      "source": [
        "column = list(file.columns)\n",
        "i=0\n",
        "file.rename(columns={column[i]:'COLUMN#'+str(i) for i in range(len(column)) } , inplace=True)\n",
        "\n",
        "#*****************************************RENAMING NAME*****************************************\n",
        "file.rename(columns = {'COLUMN#2':'AGE', 'COLUMN#21':'Clo', 'COLUMN#18':'Met', 'COLUMN#25':'Dewpt', 'COLUMN#26':'PlaneRadTemp', 'COLUMN#36':'Ta', 'COLUMN#37':'Tmrt', 'COLUMN#39':'Vel', 'COLUMN#41':'AirTurb', 'COLUMN#42':'Pa', 'COLUMN#43':'Rh', 'COLUMN#73':'TaOutdoor', 'COLUMN#76':'RhOutdoor' ,'COLUMN#7':'AMV','COLUMN#48':'PMV'}, inplace = True)\n",
        "#*****************************************DROPING OTHER COLUMNS*****************************************\n",
        "FILE=pd.DataFrame(file)\n",
        "ARRAY=[15]\n",
        "ARRAY=[2,21,18,25,26,36,37,39,41,42,43,73,7,47]\n",
        "FILE.drop(FILE.columns[[68,58,79,67,75,77,54,55,56,57,58,59,60,61,62,63,64,65,66,72,78,74,71,70,69,0,1,3, 4,5,6,8,9,10,11,12,13,14,15,16,17,19,20,22,23,24,27,28,29,30,31,32,33,34,35,38,40,44,45,46,47,49,50,51,52,53]], axis=1, inplace=True)\n",
        "FILE.columns"
      ],
      "metadata": {
        "colab": {
          "base_uri": "https://localhost:8080/"
        },
        "id": "VHEGpxIBPVgt",
        "outputId": "5e14be0f-a35e-4b64-a2d5-8a0df9171f7b"
      },
      "execution_count": null,
      "outputs": [
        {
          "output_type": "execute_result",
          "data": {
            "text/plain": [
              "Index(['AGE', 'AMV', 'Met', 'Clo', 'Dewpt', 'PlaneRadTemp', 'Ta', 'Tmrt',\n",
              "       'Vel', 'AirTurb', 'Pa', 'Rh', 'PMV', 'TaOutdoor', 'RhOutdoor'],\n",
              "      dtype='object')"
            ]
          },
          "metadata": {},
          "execution_count": 62
        }
      ]
    },
    {
      "cell_type": "markdown",
      "source": [
        "FINDING DATATYPES"
      ],
      "metadata": {
        "id": "9dlVAmJAP2SJ"
      }
    },
    {
      "cell_type": "code",
      "source": [
        "FILE.dtypes\n"
      ],
      "metadata": {
        "colab": {
          "base_uri": "https://localhost:8080/"
        },
        "id": "8QKauPmkPz72",
        "outputId": "1a3c9ba0-38c6-41a6-fd4e-38603978d96d"
      },
      "execution_count": null,
      "outputs": [
        {
          "output_type": "execute_result",
          "data": {
            "text/plain": [
              "AGE             float64\n",
              "AMV             float64\n",
              "Met             float64\n",
              "Clo             float64\n",
              "Dewpt           float64\n",
              "PlaneRadTemp    float64\n",
              "Ta              float64\n",
              "Tmrt            float64\n",
              "Vel             float64\n",
              "AirTurb         float64\n",
              "Pa              float64\n",
              "Rh              float64\n",
              "PMV             float64\n",
              "TaOutdoor       float64\n",
              "RhOutdoor       float64\n",
              "dtype: object"
            ]
          },
          "metadata": {},
          "execution_count": 63
        }
      ]
    },
    {
      "cell_type": "markdown",
      "source": [
        "COUNT OF NULL VALUES COLUMNS HAVE"
      ],
      "metadata": {
        "id": "DhcYmSEqQYjK"
      }
    },
    {
      "cell_type": "code",
      "source": [
        "LENGTH=len(FILE)\n",
        "print(\"COUNT OF NULL VALUES.\")\n",
        "FILE.isnull().sum()\n",
        "\n",
        "\n"
      ],
      "metadata": {
        "colab": {
          "base_uri": "https://localhost:8080/"
        },
        "id": "GizKznoZQVYY",
        "outputId": "b6cbfa07-b545-4e85-dcd5-48bcc008b27e"
      },
      "execution_count": null,
      "outputs": [
        {
          "output_type": "stream",
          "name": "stdout",
          "text": [
            "COUNT OF NULL VALUES.\n"
          ]
        },
        {
          "output_type": "execute_result",
          "data": {
            "text/plain": [
              "AGE             2915\n",
              "AMV               55\n",
              "Met             1887\n",
              "Clo             1406\n",
              "Dewpt           3551\n",
              "PlaneRadTemp    7021\n",
              "Ta                20\n",
              "Tmrt            3701\n",
              "Vel             3700\n",
              "AirTurb         5600\n",
              "Pa              4655\n",
              "Rh                35\n",
              "PMV              696\n",
              "TaOutdoor       1368\n",
              "RhOutdoor         19\n",
              "dtype: int64"
            ]
          },
          "metadata": {},
          "execution_count": 64
        }
      ]
    },
    {
      "cell_type": "code",
      "source": [
        "FILE.describe()"
      ],
      "metadata": {
        "colab": {
          "base_uri": "https://localhost:8080/",
          "height": 296
        },
        "id": "yIYzVWXOQc6P",
        "outputId": "731a1380-8136-41a3-c20a-3bf7f3e6ae30"
      },
      "execution_count": null,
      "outputs": [
        {
          "output_type": "execute_result",
          "data": {
            "text/plain": [
              "               AGE           AMV           Met           Clo        Dewpt  \\\n",
              "count  9650.000000  12510.000000  10678.000000  11159.000000  9014.000000   \n",
              "mean    308.637202      0.100584      1.065907      0.778503    13.621447   \n",
              "std     680.115105      1.102012      0.428882      0.221999     5.903044   \n",
              "min       0.000000     -3.000000      0.100000      0.150000    -1.953000   \n",
              "25%      26.000000     -0.700000      1.000000      0.630000     9.600000   \n",
              "50%      35.000000      0.000000      1.100000      0.751700    14.100000   \n",
              "75%      45.000000      1.000000      1.241468      0.880000    17.337500   \n",
              "max    1996.000000      3.000000      4.500000      2.130000    26.896750   \n",
              "\n",
              "       PlaneRadTemp            Ta         Tmrt          Vel      AirTurb  \\\n",
              "count   5544.000000  12545.000000  8864.000000  8865.000000  6965.000000   \n",
              "mean       0.217785     23.179187    23.450693     0.112445    18.265870   \n",
              "std        1.041164      1.432984     1.502489     0.079044    25.041109   \n",
              "min       -7.420000     15.960000    16.610000     0.000000     0.000000   \n",
              "25%       -0.230000     22.300000    22.589671     0.068000     0.320000   \n",
              "50%        0.200000     23.136667    23.359219     0.100000     0.500000   \n",
              "75%        0.600000     23.900000    24.250000     0.140000    38.815000   \n",
              "max       11.700000     31.000000    37.445000     1.880000   102.450000   \n",
              "\n",
              "                Pa            Rh           PMV     TaOutdoor     RhOutdoor  \n",
              "count  7910.000000  12530.000000  11869.000000  11197.000000  12546.000000  \n",
              "mean      5.123996     42.528507     -0.073711     17.175087     61.098939  \n",
              "std       8.156136     15.061475      0.538025     10.665415     24.704364  \n",
              "min       0.000000      7.400000     -4.170000    -24.900000      0.000000  \n",
              "25%       1.226667     29.300000     -0.400000     11.350000     53.769937  \n",
              "50%       1.550667     43.276815     -0.030000     18.200000     68.795799  \n",
              "75%       1.985333     55.500188      0.260000     26.600000     76.950000  \n",
              "max      27.700000     79.300000      2.500000     32.350000    100.350000  "
            ],
            "text/html": [
              "\n",
              "  <div id=\"df-ccb640f8-abdb-4429-a82e-6e81bb668436\">\n",
              "    <div class=\"colab-df-container\">\n",
              "      <div>\n",
              "<style scoped>\n",
              "    .dataframe tbody tr th:only-of-type {\n",
              "        vertical-align: middle;\n",
              "    }\n",
              "\n",
              "    .dataframe tbody tr th {\n",
              "        vertical-align: top;\n",
              "    }\n",
              "\n",
              "    .dataframe thead th {\n",
              "        text-align: right;\n",
              "    }\n",
              "</style>\n",
              "<table border=\"1\" class=\"dataframe\">\n",
              "  <thead>\n",
              "    <tr style=\"text-align: right;\">\n",
              "      <th></th>\n",
              "      <th>AGE</th>\n",
              "      <th>AMV</th>\n",
              "      <th>Met</th>\n",
              "      <th>Clo</th>\n",
              "      <th>Dewpt</th>\n",
              "      <th>PlaneRadTemp</th>\n",
              "      <th>Ta</th>\n",
              "      <th>Tmrt</th>\n",
              "      <th>Vel</th>\n",
              "      <th>AirTurb</th>\n",
              "      <th>Pa</th>\n",
              "      <th>Rh</th>\n",
              "      <th>PMV</th>\n",
              "      <th>TaOutdoor</th>\n",
              "      <th>RhOutdoor</th>\n",
              "    </tr>\n",
              "  </thead>\n",
              "  <tbody>\n",
              "    <tr>\n",
              "      <th>count</th>\n",
              "      <td>9650.000000</td>\n",
              "      <td>12510.000000</td>\n",
              "      <td>10678.000000</td>\n",
              "      <td>11159.000000</td>\n",
              "      <td>9014.000000</td>\n",
              "      <td>5544.000000</td>\n",
              "      <td>12545.000000</td>\n",
              "      <td>8864.000000</td>\n",
              "      <td>8865.000000</td>\n",
              "      <td>6965.000000</td>\n",
              "      <td>7910.000000</td>\n",
              "      <td>12530.000000</td>\n",
              "      <td>11869.000000</td>\n",
              "      <td>11197.000000</td>\n",
              "      <td>12546.000000</td>\n",
              "    </tr>\n",
              "    <tr>\n",
              "      <th>mean</th>\n",
              "      <td>308.637202</td>\n",
              "      <td>0.100584</td>\n",
              "      <td>1.065907</td>\n",
              "      <td>0.778503</td>\n",
              "      <td>13.621447</td>\n",
              "      <td>0.217785</td>\n",
              "      <td>23.179187</td>\n",
              "      <td>23.450693</td>\n",
              "      <td>0.112445</td>\n",
              "      <td>18.265870</td>\n",
              "      <td>5.123996</td>\n",
              "      <td>42.528507</td>\n",
              "      <td>-0.073711</td>\n",
              "      <td>17.175087</td>\n",
              "      <td>61.098939</td>\n",
              "    </tr>\n",
              "    <tr>\n",
              "      <th>std</th>\n",
              "      <td>680.115105</td>\n",
              "      <td>1.102012</td>\n",
              "      <td>0.428882</td>\n",
              "      <td>0.221999</td>\n",
              "      <td>5.903044</td>\n",
              "      <td>1.041164</td>\n",
              "      <td>1.432984</td>\n",
              "      <td>1.502489</td>\n",
              "      <td>0.079044</td>\n",
              "      <td>25.041109</td>\n",
              "      <td>8.156136</td>\n",
              "      <td>15.061475</td>\n",
              "      <td>0.538025</td>\n",
              "      <td>10.665415</td>\n",
              "      <td>24.704364</td>\n",
              "    </tr>\n",
              "    <tr>\n",
              "      <th>min</th>\n",
              "      <td>0.000000</td>\n",
              "      <td>-3.000000</td>\n",
              "      <td>0.100000</td>\n",
              "      <td>0.150000</td>\n",
              "      <td>-1.953000</td>\n",
              "      <td>-7.420000</td>\n",
              "      <td>15.960000</td>\n",
              "      <td>16.610000</td>\n",
              "      <td>0.000000</td>\n",
              "      <td>0.000000</td>\n",
              "      <td>0.000000</td>\n",
              "      <td>7.400000</td>\n",
              "      <td>-4.170000</td>\n",
              "      <td>-24.900000</td>\n",
              "      <td>0.000000</td>\n",
              "    </tr>\n",
              "    <tr>\n",
              "      <th>25%</th>\n",
              "      <td>26.000000</td>\n",
              "      <td>-0.700000</td>\n",
              "      <td>1.000000</td>\n",
              "      <td>0.630000</td>\n",
              "      <td>9.600000</td>\n",
              "      <td>-0.230000</td>\n",
              "      <td>22.300000</td>\n",
              "      <td>22.589671</td>\n",
              "      <td>0.068000</td>\n",
              "      <td>0.320000</td>\n",
              "      <td>1.226667</td>\n",
              "      <td>29.300000</td>\n",
              "      <td>-0.400000</td>\n",
              "      <td>11.350000</td>\n",
              "      <td>53.769937</td>\n",
              "    </tr>\n",
              "    <tr>\n",
              "      <th>50%</th>\n",
              "      <td>35.000000</td>\n",
              "      <td>0.000000</td>\n",
              "      <td>1.100000</td>\n",
              "      <td>0.751700</td>\n",
              "      <td>14.100000</td>\n",
              "      <td>0.200000</td>\n",
              "      <td>23.136667</td>\n",
              "      <td>23.359219</td>\n",
              "      <td>0.100000</td>\n",
              "      <td>0.500000</td>\n",
              "      <td>1.550667</td>\n",
              "      <td>43.276815</td>\n",
              "      <td>-0.030000</td>\n",
              "      <td>18.200000</td>\n",
              "      <td>68.795799</td>\n",
              "    </tr>\n",
              "    <tr>\n",
              "      <th>75%</th>\n",
              "      <td>45.000000</td>\n",
              "      <td>1.000000</td>\n",
              "      <td>1.241468</td>\n",
              "      <td>0.880000</td>\n",
              "      <td>17.337500</td>\n",
              "      <td>0.600000</td>\n",
              "      <td>23.900000</td>\n",
              "      <td>24.250000</td>\n",
              "      <td>0.140000</td>\n",
              "      <td>38.815000</td>\n",
              "      <td>1.985333</td>\n",
              "      <td>55.500188</td>\n",
              "      <td>0.260000</td>\n",
              "      <td>26.600000</td>\n",
              "      <td>76.950000</td>\n",
              "    </tr>\n",
              "    <tr>\n",
              "      <th>max</th>\n",
              "      <td>1996.000000</td>\n",
              "      <td>3.000000</td>\n",
              "      <td>4.500000</td>\n",
              "      <td>2.130000</td>\n",
              "      <td>26.896750</td>\n",
              "      <td>11.700000</td>\n",
              "      <td>31.000000</td>\n",
              "      <td>37.445000</td>\n",
              "      <td>1.880000</td>\n",
              "      <td>102.450000</td>\n",
              "      <td>27.700000</td>\n",
              "      <td>79.300000</td>\n",
              "      <td>2.500000</td>\n",
              "      <td>32.350000</td>\n",
              "      <td>100.350000</td>\n",
              "    </tr>\n",
              "  </tbody>\n",
              "</table>\n",
              "</div>\n",
              "      <button class=\"colab-df-convert\" onclick=\"convertToInteractive('df-ccb640f8-abdb-4429-a82e-6e81bb668436')\"\n",
              "              title=\"Convert this dataframe to an interactive table.\"\n",
              "              style=\"display:none;\">\n",
              "        \n",
              "  <svg xmlns=\"http://www.w3.org/2000/svg\" height=\"24px\"viewBox=\"0 0 24 24\"\n",
              "       width=\"24px\">\n",
              "    <path d=\"M0 0h24v24H0V0z\" fill=\"none\"/>\n",
              "    <path d=\"M18.56 5.44l.94 2.06.94-2.06 2.06-.94-2.06-.94-.94-2.06-.94 2.06-2.06.94zm-11 1L8.5 8.5l.94-2.06 2.06-.94-2.06-.94L8.5 2.5l-.94 2.06-2.06.94zm10 10l.94 2.06.94-2.06 2.06-.94-2.06-.94-.94-2.06-.94 2.06-2.06.94z\"/><path d=\"M17.41 7.96l-1.37-1.37c-.4-.4-.92-.59-1.43-.59-.52 0-1.04.2-1.43.59L10.3 9.45l-7.72 7.72c-.78.78-.78 2.05 0 2.83L4 21.41c.39.39.9.59 1.41.59.51 0 1.02-.2 1.41-.59l7.78-7.78 2.81-2.81c.8-.78.8-2.07 0-2.86zM5.41 20L4 18.59l7.72-7.72 1.47 1.35L5.41 20z\"/>\n",
              "  </svg>\n",
              "      </button>\n",
              "      \n",
              "  <style>\n",
              "    .colab-df-container {\n",
              "      display:flex;\n",
              "      flex-wrap:wrap;\n",
              "      gap: 12px;\n",
              "    }\n",
              "\n",
              "    .colab-df-convert {\n",
              "      background-color: #E8F0FE;\n",
              "      border: none;\n",
              "      border-radius: 50%;\n",
              "      cursor: pointer;\n",
              "      display: none;\n",
              "      fill: #1967D2;\n",
              "      height: 32px;\n",
              "      padding: 0 0 0 0;\n",
              "      width: 32px;\n",
              "    }\n",
              "\n",
              "    .colab-df-convert:hover {\n",
              "      background-color: #E2EBFA;\n",
              "      box-shadow: 0px 1px 2px rgba(60, 64, 67, 0.3), 0px 1px 3px 1px rgba(60, 64, 67, 0.15);\n",
              "      fill: #174EA6;\n",
              "    }\n",
              "\n",
              "    [theme=dark] .colab-df-convert {\n",
              "      background-color: #3B4455;\n",
              "      fill: #D2E3FC;\n",
              "    }\n",
              "\n",
              "    [theme=dark] .colab-df-convert:hover {\n",
              "      background-color: #434B5C;\n",
              "      box-shadow: 0px 1px 3px 1px rgba(0, 0, 0, 0.15);\n",
              "      filter: drop-shadow(0px 1px 2px rgba(0, 0, 0, 0.3));\n",
              "      fill: #FFFFFF;\n",
              "    }\n",
              "  </style>\n",
              "\n",
              "      <script>\n",
              "        const buttonEl =\n",
              "          document.querySelector('#df-ccb640f8-abdb-4429-a82e-6e81bb668436 button.colab-df-convert');\n",
              "        buttonEl.style.display =\n",
              "          google.colab.kernel.accessAllowed ? 'block' : 'none';\n",
              "\n",
              "        async function convertToInteractive(key) {\n",
              "          const element = document.querySelector('#df-ccb640f8-abdb-4429-a82e-6e81bb668436');\n",
              "          const dataTable =\n",
              "            await google.colab.kernel.invokeFunction('convertToInteractive',\n",
              "                                                     [key], {});\n",
              "          if (!dataTable) return;\n",
              "\n",
              "          const docLinkHtml = 'Like what you see? Visit the ' +\n",
              "            '<a target=\"_blank\" href=https://colab.research.google.com/notebooks/data_table.ipynb>data table notebook</a>'\n",
              "            + ' to learn more about interactive tables.';\n",
              "          element.innerHTML = '';\n",
              "          dataTable['output_type'] = 'display_data';\n",
              "          await google.colab.output.renderOutput(dataTable, element);\n",
              "          const docLink = document.createElement('div');\n",
              "          docLink.innerHTML = docLinkHtml;\n",
              "          element.appendChild(docLink);\n",
              "        }\n",
              "      </script>\n",
              "    </div>\n",
              "  </div>\n",
              "  "
            ]
          },
          "metadata": {},
          "execution_count": 65
        }
      ]
    },
    {
      "cell_type": "markdown",
      "source": [
        "OUTLIER FUNCTION:"
      ],
      "metadata": {
        "id": "uE9n6-KgQpFs"
      }
    },
    {
      "cell_type": "code",
      "source": [
        "def outliers(FILE):\n",
        "    q1 = FILE.quantile(0.25)\n",
        "    q3 = FILE.quantile(0.75)\n",
        "    i_q_r = q3 - q1\n",
        "    outliers = FILE[(FILE< (FILE - 1.5 * i_q_r)) | (FILE > (q3 + 1.5 * i_q_r))]\n",
        "    return outliers"
      ],
      "metadata": {
        "id": "_wg6QpBEQk6b"
      },
      "execution_count": null,
      "outputs": []
    },
    {
      "cell_type": "code",
      "source": [
        "print('OUTLIERS IN AGE COLUMN={}'.format(len(outliers(FILE['AGE']))))\n",
        "print('OUTLIERS IN PMV COLUMN={}'.format(len(outliers(FILE['PMV']))))\n",
        "print('OUTLIERS IN AMV COLUMN={}'.format(len(outliers(FILE['AMV']))))\n",
        "print('OUTLIERS IN Met COLUMN={}'.format(len(outliers(FILE['Met']))))\n",
        "print('OUTLIERS IN Rh COLUMN={}'.format(len(outliers(FILE['Rh']))))\n",
        "print('OUTLIERS IN Pa COLUMN={}'.format(len(outliers(FILE['Pa']))))\n",
        "print('OUTLIERS IN Ta COLUMN={}'.format(len(outliers(FILE['Ta']))))\n",
        "print('OUTLIERS IN RhOutdoor COLUMN={}'.format(len(outliers(FILE['RhOutdoor']))))\n",
        "print('OUTLIERS IN TaOutdoor COLUMN={}'.format(len(outliers(FILE['TaOutdoor']))))\n",
        "print('OUTLIERS IN Dewpt COLUMN={}'.format(len(outliers(FILE['Dewpt']))))\n",
        "print('OUTLIERS IN PlaneRadTemp COLUMN={}'.format(len(outliers(FILE['PlaneRadTemp']))))\n",
        "print('OUTLIERS IN Tmrt COLUMN={}'.format(len(outliers(FILE['Tmrt']))))\n",
        "print('OUTLIERS IN Vel COLUMN={}'.format(len(outliers(FILE['Vel']))))\n",
        "print('OUTLIERS IN AirTurb COLUMN={}'.format(len(outliers(FILE['PlaneRadTemp']))))\n",
        "print('OUTLIERS IN Clo COLUMN={}'.format(len(outliers(FILE['Clo']))))\n"
      ],
      "metadata": {
        "colab": {
          "base_uri": "https://localhost:8080/"
        },
        "id": "U9PNM4CPQzTr",
        "outputId": "7d013a00-c887-4f5d-a37a-480a41070dcc"
      },
      "execution_count": null,
      "outputs": [
        {
          "output_type": "stream",
          "name": "stdout",
          "text": [
            "OUTLIERS IN AGE COLUMN=1359\n",
            "OUTLIERS IN PMV COLUMN=104\n",
            "OUTLIERS IN AMV COLUMN=0\n",
            "OUTLIERS IN Met COLUMN=382\n",
            "OUTLIERS IN Rh COLUMN=0\n",
            "OUTLIERS IN Pa COLUMN=1349\n",
            "OUTLIERS IN Ta COLUMN=359\n",
            "OUTLIERS IN RhOutdoor COLUMN=0\n",
            "OUTLIERS IN TaOutdoor COLUMN=0\n",
            "OUTLIERS IN Dewpt COLUMN=0\n",
            "OUTLIERS IN PlaneRadTemp COLUMN=232\n",
            "OUTLIERS IN Tmrt COLUMN=214\n",
            "OUTLIERS IN Vel COLUMN=309\n",
            "OUTLIERS IN AirTurb COLUMN=232\n",
            "OUTLIERS IN Clo COLUMN=360\n"
          ]
        }
      ]
    },
    {
      "cell_type": "markdown",
      "source": [
        "MAKING HISTOGRAM"
      ],
      "metadata": {
        "id": "A7nFCq2STink"
      }
    },
    {
      "cell_type": "code",
      "source": [
        "for i in range (0,15):\n",
        "  h=FILE[FILE.columns[i]]\n",
        "  plt.hist(h,color='grey',bins=10)\n",
        "  plt.title(\"HISTOGRAM\")\n",
        "  plt.xlabel(FILE.columns[i])\n",
        "  plt.ylabel(\"COUNT\")\n",
        "  plt.show()\n"
      ],
      "metadata": {
        "colab": {
          "base_uri": "https://localhost:8080/",
          "height": 1000
        },
        "id": "NCUCFJNpRNNK",
        "outputId": "54c217a7-21e6-46d2-a029-d8603b508b39"
      },
      "execution_count": null,
      "outputs": [
        {
          "output_type": "display_data",
          "data": {
            "text/plain": [
              "<Figure size 432x288 with 1 Axes>"
            ],
            "image/png": "[encoded data removed]"
          },
          "metadata": {
            "needs_background": "light"
          }
        },
        {
          "output_type": "display_data",
          "data": {
            "text/plain": [
              "<Figure size 432x288 with 1 Axes>"
            ],
            "image/png": "[encoded data removed]"
          },
          "metadata": {
            "needs_background": "light"
          }
        },
        {
          "output_type": "display_data",
          "data": {
            "text/plain": [
              "<Figure size 432x288 with 1 Axes>"
            ],
            "image/png": "[encoded data removed]"
          },
          "metadata": {
            "needs_background": "light"
          }
        },
        {
          "output_type": "display_data",
          "data": {
            "text/plain": [
              "<Figure size 432x288 with 1 Axes>"
            ],
            "image/png": "[encoded data removed]"
          },
          "metadata": {
            "needs_background": "light"
          }
        },
        {
          "output_type": "display_data",
          "data": {
            "text/plain": [
              "<Figure size 432x288 with 1 Axes>"
            ],
            "image/png": "[encoded data removed]"
          },
          "metadata": {
            "needs_background": "light"
          }
        },
        {
          "output_type": "display_data",
          "data": {
            "text/plain": [
              "<Figure size 432x288 with 1 Axes>"
            ],
            "image/png": "[encoded data removed]"
          },
          "metadata": {
            "needs_background": "light"
          }
        },
        {
          "output_type": "display_data",
          "data": {
            "text/plain": [
              "<Figure size 432x288 with 1 Axes>"
            ],
            "image/png": "[encoded data removed]"
          },
          "metadata": {
            "needs_background": "light"
          }
        },
        {
          "output_type": "display_data",
          "data": {
            "text/plain": [
              "<Figure size 432x288 with 1 Axes>"
            ],
            "image/png": "[encoded data removed]"
          },
          "metadata": {
            "needs_background": "light"
          }
        },
        {
          "output_type": "display_data",
          "data": {
            "text/plain": [
              "<Figure size 432x288 with 1 Axes>"
            ],
            "image/png": "[encoded data removed]"
          },
          "metadata": {
            "needs_background": "light"
          }
        },
        {
          "output_type": "display_data",
          "data": {
            "text/plain": [
              "<Figure size 432x288 with 1 Axes>"
            ],
            "image/png": "[encoded data removed]"
          },
          "metadata": {
            "needs_background": "light"
          }
        },
        {
          "output_type": "display_data",
          "data": {
            "text/plain": [
              "<Figure size 432x288 with 1 Axes>"
            ],
            "image/png": "[encoded data removed]"
          },
          "metadata": {
            "needs_background": "light"
          }
        },
        {
          "output_type": "display_data",
          "data": {
            "text/plain": [
              "<Figure size 432x288 with 1 Axes>"
            ],
            "image/png": "[encoded data removed]"
          },
          "metadata": {
            "needs_background": "light"
          }
        },
        {
          "output_type": "display_data",
          "data": {
            "text/plain": [
              "<Figure size 432x288 with 1 Axes>"
            ],
            "image/png": "[encoded data removed]"
          },
          "metadata": {
            "needs_background": "light"
          }
        },
        {
          "output_type": "display_data",
          "data": {
            "text/plain": [
              "<Figure size 432x288 with 1 Axes>"
            ],
            "image/png": "[encoded data removed]"
          },
          "metadata": {
            "needs_background": "light"
          }
        },
        {
          "output_type": "display_data",
          "data": {
            "text/plain": [
              "<Figure size 432x288 with 1 Axes>"
            ],
            "image/png": "[encoded data removed]"
          },
          "metadata": {
            "needs_background": "light"
          }
        }
      ]
    },
    {
      "cell_type": "markdown",
      "source": [
        "MAKING BOXPLOT"
      ],
      "metadata": {
        "id": "Qe-BrRGeTpMQ"
      }
    },
    {
      "cell_type": "code",
      "source": [
        "for i in range(0,15):\n",
        "    FILE[FILE.columns[i]].plot(kind='box')\n",
        "    plt.show()"
      ],
      "metadata": {
        "colab": {
          "base_uri": "https://localhost:8080/",
          "height": 1000
        },
        "id": "ZdjKf68dTk-1",
        "outputId": "e0d27ed7-252e-45de-cdc0-90e2ebaab6a9"
      },
      "execution_count": null,
      "outputs": [
        {
          "output_type": "display_data",
          "data": {
            "text/plain": [
              "<Figure size 432x288 with 1 Axes>"
            ],
            "image/png": "[encoded data removed]"
          },
          "metadata": {
            "needs_background": "light"
          }
        },
        {
          "output_type": "display_data",
          "data": {
            "text/plain": [
              "<Figure size 432x288 with 1 Axes>"
            ],
            "image/png": "[encoded data removed]"
          },
          "metadata": {
            "needs_background": "light"
          }
        },
        {
          "output_type": "display_data",
          "data": {
            "text/plain": [
              "<Figure size 432x288 with 1 Axes>"
            ],
            "image/png": "[encoded data removed]"
          },
          "metadata": {
            "needs_background": "light"
          }
        },
        {
          "output_type": "display_data",
          "data": {
            "text/plain": [
              "<Figure size 432x288 with 1 Axes>"
            ],
            "image/png": "[encoded data removed]"
          },
          "metadata": {
            "needs_background": "light"
          }
        },
        {
          "output_type": "display_data",
          "data": {
            "text/plain": [
              "<Figure size 432x288 with 1 Axes>"
            ],
            "image/png": "[encoded data removed]"
          },
          "metadata": {
            "needs_background": "light"
          }
        },
        {
          "output_type": "display_data",
          "data": {
            "text/plain": [
              "<Figure size 432x288 with 1 Axes>"
            ],
            "image/png": "[encoded data removed]"
          },
          "metadata": {
            "needs_background": "light"
          }
        },
        {
          "output_type": "display_data",
          "data": {
            "text/plain": [
              "<Figure size 432x288 with 1 Axes>"
            ],
            "image/png": "[encoded data removed]"
          },
          "metadata": {
            "needs_background": "light"
          }
        },
        {
          "output_type": "display_data",
          "data": {
            "text/plain": [
              "<Figure size 432x288 with 1 Axes>"
            ],
            "image/png": "[encoded data removed]"
          },
          "metadata": {
            "needs_background": "light"
          }
        },
        {
          "output_type": "display_data",
          "data": {
            "text/plain": [
              "<Figure size 432x288 with 1 Axes>"
            ],
            "image/png": "[encoded data removed]"
          },
          "metadata": {
            "needs_background": "light"
          }
        },
        {
          "output_type": "display_data",
          "data": {
            "text/plain": [
              "<Figure size 432x288 with 1 Axes>"
            ],
            "image/png": "[encoded data removed]"
          },
          "metadata": {
            "needs_background": "light"
          }
        },
        {
          "output_type": "display_data",
          "data": {
            "text/plain": [
              "<Figure size 432x288 with 1 Axes>"
            ],
            "image/png": "[encoded data removed]"
          },
          "metadata": {
            "needs_background": "light"
          }
        },
        {
          "output_type": "display_data",
          "data": {
            "text/plain": [
              "<Figure size 432x288 with 1 Axes>"
            ],
            "image/png": "[encoded data removed]"
          },
          "metadata": {
            "needs_background": "light"
          }
        },
        {
          "output_type": "display_data",
          "data": {
            "text/plain": [
              "<Figure size 432x288 with 1 Axes>"
            ],
            "image/png": "[encoded data removed]"
          },
          "metadata": {
            "needs_background": "light"
          }
        },
        {
          "output_type": "display_data",
          "data": {
            "text/plain": [
              "<Figure size 432x288 with 1 Axes>"
            ],
            "image/png": "[encoded data removed]"
          },
          "metadata": {
            "needs_background": "light"
          }
        },
        {
          "output_type": "display_data",
          "data": {
            "text/plain": [
              "<Figure size 432x288 with 1 Axes>"
            ],
            "image/png": "[encoded data removed]"
          },
          "metadata": {
            "needs_background": "light"
          }
        }
      ]
    },
    {
      "cell_type": "markdown",
      "source": [
        "MAKING HEATMAP"
      ],
      "metadata": {
        "id": "PsCQwMaqVlNN"
      }
    },
    {
      "cell_type": "code",
      "source": [
        "sns.heatmap(FILE.isna(), yticklabels = False, cbar = False,  cmap = 'viridis')"
      ],
      "metadata": {
        "colab": {
          "base_uri": "https://localhost:8080/",
          "height": 345
        },
        "id": "QG8HoshKT8P0",
        "outputId": "5496baa7-19ef-49d7-e2ac-30cfe71251d8"
      },
      "execution_count": null,
      "outputs": [
        {
          "output_type": "execute_result",
          "data": {
            "text/plain": [
              "<matplotlib.axes._subplots.AxesSubplot at 0x7f8c6070e190>"
            ]
          },
          "metadata": {},
          "execution_count": 70
        },
        {
          "output_type": "display_data",
          "data": {
            "text/plain": [
              "<Figure size 432x288 with 1 Axes>"
            ],
            "image/png": "[encoded data removed]"
          },
          "metadata": {
            "needs_background": "light"
          }
        }
      ]
    },
    {
      "cell_type": "markdown",
      "source": [
        "MAKING HEAT_MAP AGAIN AFTER DELETING NULL VALUES "
      ],
      "metadata": {
        "id": "36vxhL2UViw3"
      }
    },
    {
      "cell_type": "code",
      "source": [
        "FILE = FILE.dropna(subset = ['AMV', 'Ta', 'Rh', 'RhOutdoor'])\n",
        "sns.heatmap(FILE.isnull(), yticklabels = False, cbar = False,  cmap = 'viridis')\n"
      ],
      "metadata": {
        "colab": {
          "base_uri": "https://localhost:8080/",
          "height": 345
        },
        "id": "--NYd-AKUWwt",
        "outputId": "51c82cda-3a64-427c-88a7-b6f4b836c568"
      },
      "execution_count": null,
      "outputs": [
        {
          "output_type": "execute_result",
          "data": {
            "text/plain": [
              "<matplotlib.axes._subplots.AxesSubplot at 0x7f8c605f97c0>"
            ]
          },
          "metadata": {},
          "execution_count": 72
        },
        {
          "output_type": "display_data",
          "data": {
            "text/plain": [
              "<Figure size 432x288 with 1 Axes>"
            ],
            "image/png": "[encoded data removed]"
          },
          "metadata": {
            "needs_background": "light"
          }
        }
      ]
    },
    {
      "cell_type": "code",
      "source": [
        "F= FILE.dropna(subset = ['AMV', 'Ta', 'Rh', 'RhOutdoor','AGE','PMV','AMV','Rh','Clo','Met','Dewpt','PlaneRadTemp','Tmrt','Vel','RhOutdoor','TaOutdoor','Pa'])\n",
        "sns.heatmap(F.isnull(), yticklabels = False, cbar = False,  cmap = 'viridis')"
      ],
      "metadata": {
        "colab": {
          "base_uri": "https://localhost:8080/",
          "height": 345
        },
        "id": "zfvbRC9KWWgU",
        "outputId": "e4e51d8e-2e23-47aa-a967-c81f3a3428c6"
      },
      "execution_count": null,
      "outputs": [
        {
          "output_type": "execute_result",
          "data": {
            "text/plain": [
              "<matplotlib.axes._subplots.AxesSubplot at 0x7f8c6329a190>"
            ]
          },
          "metadata": {},
          "execution_count": 73
        },
        {
          "output_type": "display_data",
          "data": {
            "text/plain": [
              "<Figure size 432x288 with 1 Axes>"
            ],
            "image/png": "[encoded data removed]"
          },
          "metadata": {
            "needs_background": "light"
          }
        }
      ]
    },
    {
      "cell_type": "markdown",
      "source": [
        "NOW FILLING NULL VALUES WITH MEAN,MEDIAN,MODE etc"
      ],
      "metadata": {
        "id": "ZLv_e2VaXYeE"
      }
    },
    {
      "cell_type": "code",
      "source": [
        "FILE.drop_duplicates(keep='first',inplace=True)\n",
        "for j in range(0,15):\n",
        "  MEDIAN=(FILE[FILE.columns[j]].fillna(FILE[FILE.columns[j]].median(),inplace=True))\n"
      ],
      "metadata": {
        "id": "F91uTfFXWs_C"
      },
      "execution_count": null,
      "outputs": []
    },
    {
      "cell_type": "markdown",
      "source": [
        "NOW MAKING HEATMAP AGAIN AFTER FILLING NULL VALUES "
      ],
      "metadata": {
        "id": "nWDm9xUKXvpA"
      }
    },
    {
      "cell_type": "code",
      "source": [
        "sns.heatmap(FILE.isnull(), yticklabels = False, cbar = False,  cmap = 'viridis')"
      ],
      "metadata": {
        "colab": {
          "base_uri": "https://localhost:8080/",
          "height": 345
        },
        "id": "dlvrRYiBXqzw",
        "outputId": "a0a8fd9e-e3aa-4e4f-b350-06f3e596f650"
      },
      "execution_count": null,
      "outputs": [
        {
          "output_type": "execute_result",
          "data": {
            "text/plain": [
              "<matplotlib.axes._subplots.AxesSubplot at 0x7f8c639f8460>"
            ]
          },
          "metadata": {},
          "execution_count": 76
        },
        {
          "output_type": "display_data",
          "data": {
            "text/plain": [
              "<Figure size 432x288 with 1 Axes>"
            ],
            "image/png": "[encoded data removed]"
          },
          "metadata": {
            "needs_background": "light"
          }
        }
      ]
    },
    {
      "cell_type": "markdown",
      "source": [
        "CHECKING THE FILE AGIN FILLING WITH MEDIAN VALUE OF EACH COLUMN"
      ],
      "metadata": {
        "id": "vHXBX5o4X7p6"
      }
    },
    {
      "cell_type": "code",
      "source": [
        "FILE"
      ],
      "metadata": {
        "colab": {
          "base_uri": "https://localhost:8080/",
          "height": 672
        },
        "id": "mw3lvNXFX05R",
        "outputId": "e82a6b63-8519-4d9a-f1fb-6a298846ccb1"
      },
      "execution_count": null,
      "outputs": [
        {
          "output_type": "execute_result",
          "data": {
            "text/plain": [
              "          AGE  AMV  Met     Clo   Dewpt  PlaneRadTemp         Ta       Tmrt  \\\n",
              "0        35.0  2.0  2.1  0.7800  13.800           0.2  19.100000  19.629472   \n",
              "1        35.0  1.0  2.1  1.0500  13.800           0.2  20.000000  19.046655   \n",
              "2        35.0  3.0  2.6  0.4000  13.800           0.2  21.000000  20.153116   \n",
              "3        35.0  3.0  3.0  0.3700  13.800           0.2  23.000000  21.942458   \n",
              "4        35.0  1.0  2.1  1.2900  13.800           0.2  19.800000  19.429333   \n",
              "...       ...  ...  ...     ...     ...           ...        ...        ...   \n",
              "12560  1996.0  1.0  0.1  0.7517  22.122           0.2  22.142437  23.350000   \n",
              "12561  1996.0  1.0  0.1  0.7517  22.122           0.2  22.142437  23.350000   \n",
              "12562  1996.0  1.0  0.1  0.7517  22.122           0.2  22.142437  23.350000   \n",
              "12563  1996.0  1.0  0.1  0.7517  22.122           0.2  22.142437  23.350000   \n",
              "12564  1996.0  1.0  0.1  0.7517  22.122           0.2  22.142437  23.350000   \n",
              "\n",
              "        Vel   AirTurb         Pa    Rh   PMV  TaOutdoor  RhOutdoor  \n",
              "0      0.06   0.50000   1.525333  51.3  0.51      11.55       79.0  \n",
              "1      0.06   0.50000   1.525333  51.9  0.80      11.55       79.0  \n",
              "2      0.06   0.50000   1.525333  49.9  0.76      11.55       79.0  \n",
              "3      0.06   0.50000   1.525333  45.6  1.47      11.55       79.0  \n",
              "4      0.06   0.50000   1.525333  51.4  0.97      11.55       79.0  \n",
              "...     ...       ...        ...   ...   ...        ...        ...  \n",
              "12560  0.10  67.42325  22.300000  22.9 -0.04      18.20        0.0  \n",
              "12561  0.10  67.42325  22.300000  21.4 -0.04      18.20        0.0  \n",
              "12562  0.10  67.42325  22.300000  23.1 -0.04      18.20        0.0  \n",
              "12563  0.10  67.42325  22.300000  22.0 -0.04      18.20        0.0  \n",
              "12564  0.10  67.42325  22.300000  20.3 -0.04      18.20        0.0  \n",
              "\n",
              "[12068 rows x 15 columns]"
            ],
            "text/html": [
              "\n",
              "  <div id=\"df-7ad48dad-a2aa-436a-b8d0-8c926efedea7\">\n",
              "    <div class=\"colab-df-container\">\n",
              "      <div>\n",
              "<style scoped>\n",
              "    .dataframe tbody tr th:only-of-type {\n",
              "        vertical-align: middle;\n",
              "    }\n",
              "\n",
              "    .dataframe tbody tr th {\n",
              "        vertical-align: top;\n",
              "    }\n",
              "\n",
              "    .dataframe thead th {\n",
              "        text-align: right;\n",
              "    }\n",
              "</style>\n",
              "<table border=\"1\" class=\"dataframe\">\n",
              "  <thead>\n",
              "    <tr style=\"text-align: right;\">\n",
              "      <th></th>\n",
              "      <th>AGE</th>\n",
              "      <th>AMV</th>\n",
              "      <th>Met</th>\n",
              "      <th>Clo</th>\n",
              "      <th>Dewpt</th>\n",
              "      <th>PlaneRadTemp</th>\n",
              "      <th>Ta</th>\n",
              "      <th>Tmrt</th>\n",
              "      <th>Vel</th>\n",
              "      <th>AirTurb</th>\n",
              "      <th>Pa</th>\n",
              "      <th>Rh</th>\n",
              "      <th>PMV</th>\n",
              "      <th>TaOutdoor</th>\n",
              "      <th>RhOutdoor</th>\n",
              "    </tr>\n",
              "  </thead>\n",
              "  <tbody>\n",
              "    <tr>\n",
              "      <th>0</th>\n",
              "      <td>35.0</td>\n",
              "      <td>2.0</td>\n",
              "      <td>2.1</td>\n",
              "      <td>0.7800</td>\n",
              "      <td>13.800</td>\n",
              "      <td>0.2</td>\n",
              "      <td>19.100000</td>\n",
              "      <td>19.629472</td>\n",
              "      <td>0.06</td>\n",
              "      <td>0.50000</td>\n",
              "      <td>1.525333</td>\n",
              "      <td>51.3</td>\n",
              "      <td>0.51</td>\n",
              "      <td>11.55</td>\n",
              "      <td>79.0</td>\n",
              "    </tr>\n",
              "    <tr>\n",
              "      <th>1</th>\n",
              "      <td>35.0</td>\n",
              "      <td>1.0</td>\n",
              "      <td>2.1</td>\n",
              "      <td>1.0500</td>\n",
              "      <td>13.800</td>\n",
              "      <td>0.2</td>\n",
              "      <td>20.000000</td>\n",
              "      <td>19.046655</td>\n",
              "      <td>0.06</td>\n",
              "      <td>0.50000</td>\n",
              "      <td>1.525333</td>\n",
              "      <td>51.9</td>\n",
              "      <td>0.80</td>\n",
              "      <td>11.55</td>\n",
              "      <td>79.0</td>\n",
              "    </tr>\n",
              "    <tr>\n",
              "      <th>2</th>\n",
              "      <td>35.0</td>\n",
              "      <td>3.0</td>\n",
              "      <td>2.6</td>\n",
              "      <td>0.4000</td>\n",
              "      <td>13.800</td>\n",
              "      <td>0.2</td>\n",
              "      <td>21.000000</td>\n",
              "      <td>20.153116</td>\n",
              "      <td>0.06</td>\n",
              "      <td>0.50000</td>\n",
              "      <td>1.525333</td>\n",
              "      <td>49.9</td>\n",
              "      <td>0.76</td>\n",
              "      <td>11.55</td>\n",
              "      <td>79.0</td>\n",
              "    </tr>\n",
              "    <tr>\n",
              "      <th>3</th>\n",
              "      <td>35.0</td>\n",
              "      <td>3.0</td>\n",
              "      <td>3.0</td>\n",
              "      <td>0.3700</td>\n",
              "      <td>13.800</td>\n",
              "      <td>0.2</td>\n",
              "      <td>23.000000</td>\n",
              "      <td>21.942458</td>\n",
              "      <td>0.06</td>\n",
              "      <td>0.50000</td>\n",
              "      <td>1.525333</td>\n",
              "      <td>45.6</td>\n",
              "      <td>1.47</td>\n",
              "      <td>11.55</td>\n",
              "      <td>79.0</td>\n",
              "    </tr>\n",
              "    <tr>\n",
              "      <th>4</th>\n",
              "      <td>35.0</td>\n",
              "      <td>1.0</td>\n",
              "      <td>2.1</td>\n",
              "      <td>1.2900</td>\n",
              "      <td>13.800</td>\n",
              "      <td>0.2</td>\n",
              "      <td>19.800000</td>\n",
              "      <td>19.429333</td>\n",
              "      <td>0.06</td>\n",
              "      <td>0.50000</td>\n",
              "      <td>1.525333</td>\n",
              "      <td>51.4</td>\n",
              "      <td>0.97</td>\n",
              "      <td>11.55</td>\n",
              "      <td>79.0</td>\n",
              "    </tr>\n",
              "    <tr>\n",
              "      <th>...</th>\n",
              "      <td>...</td>\n",
              "      <td>...</td>\n",
              "      <td>...</td>\n",
              "      <td>...</td>\n",
              "      <td>...</td>\n",
              "      <td>...</td>\n",
              "      <td>...</td>\n",
              "      <td>...</td>\n",
              "      <td>...</td>\n",
              "      <td>...</td>\n",
              "      <td>...</td>\n",
              "      <td>...</td>\n",
              "      <td>...</td>\n",
              "      <td>...</td>\n",
              "      <td>...</td>\n",
              "    </tr>\n",
              "    <tr>\n",
              "      <th>12560</th>\n",
              "      <td>1996.0</td>\n",
              "      <td>1.0</td>\n",
              "      <td>0.1</td>\n",
              "      <td>0.7517</td>\n",
              "      <td>22.122</td>\n",
              "      <td>0.2</td>\n",
              "      <td>22.142437</td>\n",
              "      <td>23.350000</td>\n",
              "      <td>0.10</td>\n",
              "      <td>67.42325</td>\n",
              "      <td>22.300000</td>\n",
              "      <td>22.9</td>\n",
              "      <td>-0.04</td>\n",
              "      <td>18.20</td>\n",
              "      <td>0.0</td>\n",
              "    </tr>\n",
              "    <tr>\n",
              "      <th>12561</th>\n",
              "      <td>1996.0</td>\n",
              "      <td>1.0</td>\n",
              "      <td>0.1</td>\n",
              "      <td>0.7517</td>\n",
              "      <td>22.122</td>\n",
              "      <td>0.2</td>\n",
              "      <td>22.142437</td>\n",
              "      <td>23.350000</td>\n",
              "      <td>0.10</td>\n",
              "      <td>67.42325</td>\n",
              "      <td>22.300000</td>\n",
              "      <td>21.4</td>\n",
              "      <td>-0.04</td>\n",
              "      <td>18.20</td>\n",
              "      <td>0.0</td>\n",
              "    </tr>\n",
              "    <tr>\n",
              "      <th>12562</th>\n",
              "      <td>1996.0</td>\n",
              "      <td>1.0</td>\n",
              "      <td>0.1</td>\n",
              "      <td>0.7517</td>\n",
              "      <td>22.122</td>\n",
              "      <td>0.2</td>\n",
              "      <td>22.142437</td>\n",
              "      <td>23.350000</td>\n",
              "      <td>0.10</td>\n",
              "      <td>67.42325</td>\n",
              "      <td>22.300000</td>\n",
              "      <td>23.1</td>\n",
              "      <td>-0.04</td>\n",
              "      <td>18.20</td>\n",
              "      <td>0.0</td>\n",
              "    </tr>\n",
              "    <tr>\n",
              "      <th>12563</th>\n",
              "      <td>1996.0</td>\n",
              "      <td>1.0</td>\n",
              "      <td>0.1</td>\n",
              "      <td>0.7517</td>\n",
              "      <td>22.122</td>\n",
              "      <td>0.2</td>\n",
              "      <td>22.142437</td>\n",
              "      <td>23.350000</td>\n",
              "      <td>0.10</td>\n",
              "      <td>67.42325</td>\n",
              "      <td>22.300000</td>\n",
              "      <td>22.0</td>\n",
              "      <td>-0.04</td>\n",
              "      <td>18.20</td>\n",
              "      <td>0.0</td>\n",
              "    </tr>\n",
              "    <tr>\n",
              "      <th>12564</th>\n",
              "      <td>1996.0</td>\n",
              "      <td>1.0</td>\n",
              "      <td>0.1</td>\n",
              "      <td>0.7517</td>\n",
              "      <td>22.122</td>\n",
              "      <td>0.2</td>\n",
              "      <td>22.142437</td>\n",
              "      <td>23.350000</td>\n",
              "      <td>0.10</td>\n",
              "      <td>67.42325</td>\n",
              "      <td>22.300000</td>\n",
              "      <td>20.3</td>\n",
              "      <td>-0.04</td>\n",
              "      <td>18.20</td>\n",
              "      <td>0.0</td>\n",
              "    </tr>\n",
              "  </tbody>\n",
              "</table>\n",
              "<p>12068 rows × 15 columns</p>\n",
              "</div>\n",
              "      <button class=\"colab-df-convert\" onclick=\"convertToInteractive('df-7ad48dad-a2aa-436a-b8d0-8c926efedea7')\"\n",
              "              title=\"Convert this dataframe to an interactive table.\"\n",
              "              style=\"display:none;\">\n",
              "        \n",
              "  <svg xmlns=\"http://www.w3.org/2000/svg\" height=\"24px\"viewBox=\"0 0 24 24\"\n",
              "       width=\"24px\">\n",
              "    <path d=\"M0 0h24v24H0V0z\" fill=\"none\"/>\n",
              "    <path d=\"M18.56 5.44l.94 2.06.94-2.06 2.06-.94-2.06-.94-.94-2.06-.94 2.06-2.06.94zm-11 1L8.5 8.5l.94-2.06 2.06-.94-2.06-.94L8.5 2.5l-.94 2.06-2.06.94zm10 10l.94 2.06.94-2.06 2.06-.94-2.06-.94-.94-2.06-.94 2.06-2.06.94z\"/><path d=\"M17.41 7.96l-1.37-1.37c-.4-.4-.92-.59-1.43-.59-.52 0-1.04.2-1.43.59L10.3 9.45l-7.72 7.72c-.78.78-.78 2.05 0 2.83L4 21.41c.39.39.9.59 1.41.59.51 0 1.02-.2 1.41-.59l7.78-7.78 2.81-2.81c.8-.78.8-2.07 0-2.86zM5.41 20L4 18.59l7.72-7.72 1.47 1.35L5.41 20z\"/>\n",
              "  </svg>\n",
              "      </button>\n",
              "      \n",
              "  <style>\n",
              "    .colab-df-container {\n",
              "      display:flex;\n",
              "      flex-wrap:wrap;\n",
              "      gap: 12px;\n",
              "    }\n",
              "\n",
              "    .colab-df-convert {\n",
              "      background-color: #E8F0FE;\n",
              "      border: none;\n",
              "      border-radius: 50%;\n",
              "      cursor: pointer;\n",
              "      display: none;\n",
              "      fill: #1967D2;\n",
              "      height: 32px;\n",
              "      padding: 0 0 0 0;\n",
              "      width: 32px;\n",
              "    }\n",
              "\n",
              "    .colab-df-convert:hover {\n",
              "      background-color: #E2EBFA;\n",
              "      box-shadow: 0px 1px 2px rgba(60, 64, 67, 0.3), 0px 1px 3px 1px rgba(60, 64, 67, 0.15);\n",
              "      fill: #174EA6;\n",
              "    }\n",
              "\n",
              "    [theme=dark] .colab-df-convert {\n",
              "      background-color: #3B4455;\n",
              "      fill: #D2E3FC;\n",
              "    }\n",
              "\n",
              "    [theme=dark] .colab-df-convert:hover {\n",
              "      background-color: #434B5C;\n",
              "      box-shadow: 0px 1px 3px 1px rgba(0, 0, 0, 0.15);\n",
              "      filter: drop-shadow(0px 1px 2px rgba(0, 0, 0, 0.3));\n",
              "      fill: #FFFFFF;\n",
              "    }\n",
              "  </style>\n",
              "\n",
              "      <script>\n",
              "        const buttonEl =\n",
              "          document.querySelector('#df-7ad48dad-a2aa-436a-b8d0-8c926efedea7 button.colab-df-convert');\n",
              "        buttonEl.style.display =\n",
              "          google.colab.kernel.accessAllowed ? 'block' : 'none';\n",
              "\n",
              "        async function convertToInteractive(key) {\n",
              "          const element = document.querySelector('#df-7ad48dad-a2aa-436a-b8d0-8c926efedea7');\n",
              "          const dataTable =\n",
              "            await google.colab.kernel.invokeFunction('convertToInteractive',\n",
              "                                                     [key], {});\n",
              "          if (!dataTable) return;\n",
              "\n",
              "          const docLinkHtml = 'Like what you see? Visit the ' +\n",
              "            '<a target=\"_blank\" href=https://colab.research.google.com/notebooks/data_table.ipynb>data table notebook</a>'\n",
              "            + ' to learn more about interactive tables.';\n",
              "          element.innerHTML = '';\n",
              "          dataTable['output_type'] = 'display_data';\n",
              "          await google.colab.output.renderOutput(dataTable, element);\n",
              "          const docLink = document.createElement('div');\n",
              "          docLink.innerHTML = docLinkHtml;\n",
              "          element.appendChild(docLink);\n",
              "        }\n",
              "      </script>\n",
              "    </div>\n",
              "  </div>\n",
              "  "
            ]
          },
          "metadata": {},
          "execution_count": 78
        }
      ]
    },
    {
      "cell_type": "markdown",
      "source": [
        "CHECKING OUTLIERS AGAIN"
      ],
      "metadata": {
        "id": "zYKXY9ybZBKH"
      }
    },
    {
      "cell_type": "code",
      "source": [
        "print('OUTLIERS IN AGE COLUMN={}'.format(len(outliers(FILE['AGE']))))\n",
        "print('OUTLIERS IN PMV COLUMN={}'.format(len(outliers(FILE['PMV']))))\n",
        "print('OUTLIERS IN AMV COLUMN={}'.format(len(outliers(FILE['AMV']))))\n",
        "print('OUTLIERS IN Met COLUMN={}'.format(len(outliers(FILE['Met']))))\n",
        "print('OUTLIERS IN Rh COLUMN={}'.format(len(outliers(FILE['Rh']))))\n",
        "print('OUTLIERS IN Pa COLUMN={}'.format(len(outliers(FILE['Pa']))))\n",
        "print('OUTLIERS IN Ta COLUMN={}'.format(len(outliers(FILE['Ta']))))\n",
        "print('OUTLIERS IN RhOutdoor COLUMN={}'.format(len(outliers(FILE['RhOutdoor']))))\n",
        "print('OUTLIERS IN TaOutdoor COLUMN={}'.format(len(outliers(FILE['TaOutdoor']))))\n",
        "print('OUTLIERS IN Dewpt COLUMN={}'.format(len(outliers(FILE['Dewpt']))))\n",
        "print('OUTLIERS IN PlaneRadTemp COLUMN={}'.format(len(outliers(FILE['PlaneRadTemp']))))\n",
        "print('OUTLIERS IN Tmrt COLUMN={}'.format(len(outliers(FILE['Tmrt']))))\n",
        "print('OUTLIERS IN Vel COLUMN={}'.format(len(outliers(FILE['Vel']))))\n",
        "print('OUTLIERS IN AirTurb COLUMN={}'.format(len(outliers(FILE['PlaneRadTemp']))))\n",
        "print('OUTLIERS IN Clo COLUMN={}'.format(len(outliers(FILE['Clo']))))\n"
      ],
      "metadata": {
        "colab": {
          "base_uri": "https://localhost:8080/"
        },
        "id": "Bwwu0XxzYBRL",
        "outputId": "a443e3af-cf67-4b08-9f3c-48a78ca78ec6"
      },
      "execution_count": null,
      "outputs": [
        {
          "output_type": "stream",
          "name": "stdout",
          "text": [
            "OUTLIERS IN AGE COLUMN=1050\n",
            "OUTLIERS IN PMV COLUMN=121\n",
            "OUTLIERS IN AMV COLUMN=0\n",
            "OUTLIERS IN Met COLUMN=763\n",
            "OUTLIERS IN Rh COLUMN=0\n",
            "OUTLIERS IN Pa COLUMN=1645\n",
            "OUTLIERS IN Ta COLUMN=341\n",
            "OUTLIERS IN RhOutdoor COLUMN=0\n",
            "OUTLIERS IN TaOutdoor COLUMN=0\n",
            "OUTLIERS IN Dewpt COLUMN=363\n",
            "OUTLIERS IN PlaneRadTemp COLUMN=2693\n",
            "OUTLIERS IN Tmrt COLUMN=817\n",
            "OUTLIERS IN Vel COLUMN=911\n",
            "OUTLIERS IN AirTurb COLUMN=2693\n",
            "OUTLIERS IN Clo COLUMN=493\n"
          ]
        }
      ]
    },
    {
      "cell_type": "code",
      "source": [
        "for i in outliers(FILE['AGE']):\n",
        "    FILE['AGE'] = np.where(FILE['AGE'] == i, FILE['AGE'].median(), FILE['AGE'])\n",
        "for i in outliers(FILE['Met']):\n",
        "    FILE['Met'] = np.where(FILE['Met'] == i, FILE['Met'].median(), FILE['Met'])\n",
        "for i in outliers(FILE['Clo']):\n",
        "    FILE['Clo'] = np.where(FILE['Clo'] == i, FILE['Clo'].median(), FILE['Clo'])\n",
        "for i in outliers(FILE['Dewpt']):\n",
        "    FILE['Dewpt'] = np.where(FILE['Dewpt'] == i, FILE['Dewpt'].median(), FILE['Dewpt'])\n",
        "for i in outliers(FILE['PlaneRadTemp']):\n",
        "    FILE['PlaneRadTemp'] = np.where(FILE['PlaneRadTemp'] == i,FILE['PlaneRadTemp'].median(),FILE['PlaneRadTemp'])\n",
        "for i in outliers(FILE['Ta']):\n",
        "    FILE['Ta'] = np.where(FILE['Ta'] == i, FILE['Ta'].median(), FILE['Ta'])\n",
        "for i in outliers(FILE['Tmrt']):\n",
        "    FILE['Tmrt'] = np.where(FILE['Tmrt'] == i, FILE['Tmrt'].median(),FILE['Tmrt'])\n",
        "for i in outliers(FILE['Vel']):\n",
        "    FILE['Vel'] = np.where(FILE['Vel'] == i, FILE['Vel'].median(), FILE['Vel'])\n",
        "for i in outliers(FILE['AirTurb']):\n",
        "    FILE['AirTurb'] = np.where(FILE['AirTurb'] == i,FILE['AirTurb'].median(),FILE['AirTurb'])\n",
        "for i in outliers(FILE['Pa']):\n",
        "    FILE['Pa'] = np.where(FILE['Pa'] == i, FILE['Pa'].median(), FILE['Pa'])\n",
        "for i in outliers(FILE['PMV']):\n",
        "    FILE['PMV'] = np.where(FILE['PMV'] == i, FILE['PMV'].median(), FILE['PMV'])\n",
        "for i in outliers(FILE['TaOutdoor']):\n",
        "    FILE['TaOutdoor'] = np.where(FILE['TaOutdoor'] == i,FILE['TaOutdoor'].median(), FILE['TaOutdoor'])\n",
        "for i in outliers(FILE['RhOutdoor']):\n",
        "    FILE['RhOutdoor'] = np.where(FILE['RhOutdoor'] == i, FILE['RhOutdoor'].median(), FILE['RhOutdoor'])\n"
      ],
      "metadata": {
        "id": "6cgZDJ0AYvTQ"
      },
      "execution_count": null,
      "outputs": []
    },
    {
      "cell_type": "markdown",
      "source": [
        "FINDING VARIANCE"
      ],
      "metadata": {
        "id": "6JN8HyPQb6HY"
      }
    },
    {
      "cell_type": "code",
      "source": [
        "FILE.var()"
      ],
      "metadata": {
        "colab": {
          "base_uri": "https://localhost:8080/"
        },
        "id": "3OQTiXT6ZXao",
        "outputId": "a473a90b-686c-4456-f364-5eb8d04b838b"
      },
      "execution_count": null,
      "outputs": [
        {
          "output_type": "execute_result",
          "data": {
            "text/plain": [
              "AGE              28.263521\n",
              "AMV               1.227722\n",
              "Met               0.096930\n",
              "Clo               0.016165\n",
              "Dewpt            14.092324\n",
              "PlaneRadTemp      0.181566\n",
              "Ta                1.318610\n",
              "Tmrt              0.580709\n",
              "Vel               0.000628\n",
              "AirTurb           0.009326\n",
              "Pa                0.059921\n",
              "Rh              220.733763\n",
              "PMV               0.247381\n",
              "TaOutdoor       103.796383\n",
              "RhOutdoor       523.279907\n",
              "dtype: float64"
            ]
          },
          "metadata": {},
          "execution_count": 95
        }
      ]
    },
    {
      "cell_type": "code",
      "source": [
        "FILE.describe()"
      ],
      "metadata": {
        "colab": {
          "base_uri": "https://localhost:8080/",
          "height": 296
        },
        "id": "ulBjW2sJb8Ss",
        "outputId": "76c0af06-bf34-4ff5-e120-55d2757717cf"
      },
      "execution_count": null,
      "outputs": [
        {
          "output_type": "execute_result",
          "data": {
            "text/plain": [
              "                AGE           AMV           Met           Clo         Dewpt  \\\n",
              "count  12068.000000  12068.000000  12068.000000  12068.000000  12068.000000   \n",
              "mean      32.354325      0.074942      1.058853      0.719726     12.470708   \n",
              "std        5.316345      1.108026      0.311335      0.127140      3.753974   \n",
              "min        0.000000     -3.000000      0.100000      0.150000     -1.953000   \n",
              "25%       30.000000     -0.800000      1.000000      0.640000     10.990000   \n",
              "50%       35.000000      0.000000      1.117000      0.751700     13.800000   \n",
              "75%       35.000000      1.000000      1.200000      0.784200     13.800000   \n",
              "max       42.000000      3.000000      1.500000      1.000000     18.010000   \n",
              "\n",
              "       PlaneRadTemp            Ta          Tmrt           Vel       AirTurb  \\\n",
              "count  12068.000000  12068.000000  12068.000000  12068.000000  12068.000000   \n",
              "mean       0.053434     23.001667     23.031304      0.090253      0.449593   \n",
              "std        0.426106      1.148307      0.762043      0.025055      0.096571   \n",
              "min       -7.420000     15.960000     16.610000      0.000000      0.000000   \n",
              "25%        0.200000     22.300000     22.890000      0.080000      0.428571   \n",
              "50%        0.200000     23.130000     23.350000      0.100000      0.500000   \n",
              "75%        0.200000     23.700000     23.350000      0.100000      0.500000   \n",
              "max        0.200000     25.790000     24.040000      0.130000      0.606000   \n",
              "\n",
              "                 Pa            Rh           PMV     TaOutdoor     RhOutdoor  \n",
              "count  12068.000000  12068.000000  12068.000000  12068.000000  12068.000000  \n",
              "mean       1.414785     43.050779     -0.091983     17.260592     62.666000  \n",
              "std        0.244788     14.857112      0.497375     10.188051     22.875312  \n",
              "min        0.283000      7.400000     -3.210000    -24.900000      0.000000  \n",
              "25%        1.416317     30.401643     -0.390000     11.888889     55.000000  \n",
              "50%        1.525333     43.982135     -0.040000     18.200000     69.000000  \n",
              "75%        1.525333     55.900000      0.230000     25.600000     77.000000  \n",
              "max        1.688837     79.300000      1.160000     32.350000    100.350000  "
            ],
            "text/html": [
              "\n",
              "  <div id=\"df-0346f379-a2a4-42d0-b8d5-1387f451418a\">\n",
              "    <div class=\"colab-df-container\">\n",
              "      <div>\n",
              "<style scoped>\n",
              "    .dataframe tbody tr th:only-of-type {\n",
              "        vertical-align: middle;\n",
              "    }\n",
              "\n",
              "    .dataframe tbody tr th {\n",
              "        vertical-align: top;\n",
              "    }\n",
              "\n",
              "    .dataframe thead th {\n",
              "        text-align: right;\n",
              "    }\n",
              "</style>\n",
              "<table border=\"1\" class=\"dataframe\">\n",
              "  <thead>\n",
              "    <tr style=\"text-align: right;\">\n",
              "      <th></th>\n",
              "      <th>AGE</th>\n",
              "      <th>AMV</th>\n",
              "      <th>Met</th>\n",
              "      <th>Clo</th>\n",
              "      <th>Dewpt</th>\n",
              "      <th>PlaneRadTemp</th>\n",
              "      <th>Ta</th>\n",
              "      <th>Tmrt</th>\n",
              "      <th>Vel</th>\n",
              "      <th>AirTurb</th>\n",
              "      <th>Pa</th>\n",
              "      <th>Rh</th>\n",
              "      <th>PMV</th>\n",
              "      <th>TaOutdoor</th>\n",
              "      <th>RhOutdoor</th>\n",
              "    </tr>\n",
              "  </thead>\n",
              "  <tbody>\n",
              "    <tr>\n",
              "      <th>count</th>\n",
              "      <td>12068.000000</td>\n",
              "      <td>12068.000000</td>\n",
              "      <td>12068.000000</td>\n",
              "      <td>12068.000000</td>\n",
              "      <td>12068.000000</td>\n",
              "      <td>12068.000000</td>\n",
              "      <td>12068.000000</td>\n",
              "      <td>12068.000000</td>\n",
              "      <td>12068.000000</td>\n",
              "      <td>12068.000000</td>\n",
              "      <td>12068.000000</td>\n",
              "      <td>12068.000000</td>\n",
              "      <td>12068.000000</td>\n",
              "      <td>12068.000000</td>\n",
              "      <td>12068.000000</td>\n",
              "    </tr>\n",
              "    <tr>\n",
              "      <th>mean</th>\n",
              "      <td>32.354325</td>\n",
              "      <td>0.074942</td>\n",
              "      <td>1.058853</td>\n",
              "      <td>0.719726</td>\n",
              "      <td>12.470708</td>\n",
              "      <td>0.053434</td>\n",
              "      <td>23.001667</td>\n",
              "      <td>23.031304</td>\n",
              "      <td>0.090253</td>\n",
              "      <td>0.449593</td>\n",
              "      <td>1.414785</td>\n",
              "      <td>43.050779</td>\n",
              "      <td>-0.091983</td>\n",
              "      <td>17.260592</td>\n",
              "      <td>62.666000</td>\n",
              "    </tr>\n",
              "    <tr>\n",
              "      <th>std</th>\n",
              "      <td>5.316345</td>\n",
              "      <td>1.108026</td>\n",
              "      <td>0.311335</td>\n",
              "      <td>0.127140</td>\n",
              "      <td>3.753974</td>\n",
              "      <td>0.426106</td>\n",
              "      <td>1.148307</td>\n",
              "      <td>0.762043</td>\n",
              "      <td>0.025055</td>\n",
              "      <td>0.096571</td>\n",
              "      <td>0.244788</td>\n",
              "      <td>14.857112</td>\n",
              "      <td>0.497375</td>\n",
              "      <td>10.188051</td>\n",
              "      <td>22.875312</td>\n",
              "    </tr>\n",
              "    <tr>\n",
              "      <th>min</th>\n",
              "      <td>0.000000</td>\n",
              "      <td>-3.000000</td>\n",
              "      <td>0.100000</td>\n",
              "      <td>0.150000</td>\n",
              "      <td>-1.953000</td>\n",
              "      <td>-7.420000</td>\n",
              "      <td>15.960000</td>\n",
              "      <td>16.610000</td>\n",
              "      <td>0.000000</td>\n",
              "      <td>0.000000</td>\n",
              "      <td>0.283000</td>\n",
              "      <td>7.400000</td>\n",
              "      <td>-3.210000</td>\n",
              "      <td>-24.900000</td>\n",
              "      <td>0.000000</td>\n",
              "    </tr>\n",
              "    <tr>\n",
              "      <th>25%</th>\n",
              "      <td>30.000000</td>\n",
              "      <td>-0.800000</td>\n",
              "      <td>1.000000</td>\n",
              "      <td>0.640000</td>\n",
              "      <td>10.990000</td>\n",
              "      <td>0.200000</td>\n",
              "      <td>22.300000</td>\n",
              "      <td>22.890000</td>\n",
              "      <td>0.080000</td>\n",
              "      <td>0.428571</td>\n",
              "      <td>1.416317</td>\n",
              "      <td>30.401643</td>\n",
              "      <td>-0.390000</td>\n",
              "      <td>11.888889</td>\n",
              "      <td>55.000000</td>\n",
              "    </tr>\n",
              "    <tr>\n",
              "      <th>50%</th>\n",
              "      <td>35.000000</td>\n",
              "      <td>0.000000</td>\n",
              "      <td>1.117000</td>\n",
              "      <td>0.751700</td>\n",
              "      <td>13.800000</td>\n",
              "      <td>0.200000</td>\n",
              "      <td>23.130000</td>\n",
              "      <td>23.350000</td>\n",
              "      <td>0.100000</td>\n",
              "      <td>0.500000</td>\n",
              "      <td>1.525333</td>\n",
              "      <td>43.982135</td>\n",
              "      <td>-0.040000</td>\n",
              "      <td>18.200000</td>\n",
              "      <td>69.000000</td>\n",
              "    </tr>\n",
              "    <tr>\n",
              "      <th>75%</th>\n",
              "      <td>35.000000</td>\n",
              "      <td>1.000000</td>\n",
              "      <td>1.200000</td>\n",
              "      <td>0.784200</td>\n",
              "      <td>13.800000</td>\n",
              "      <td>0.200000</td>\n",
              "      <td>23.700000</td>\n",
              "      <td>23.350000</td>\n",
              "      <td>0.100000</td>\n",
              "      <td>0.500000</td>\n",
              "      <td>1.525333</td>\n",
              "      <td>55.900000</td>\n",
              "      <td>0.230000</td>\n",
              "      <td>25.600000</td>\n",
              "      <td>77.000000</td>\n",
              "    </tr>\n",
              "    <tr>\n",
              "      <th>max</th>\n",
              "      <td>42.000000</td>\n",
              "      <td>3.000000</td>\n",
              "      <td>1.500000</td>\n",
              "      <td>1.000000</td>\n",
              "      <td>18.010000</td>\n",
              "      <td>0.200000</td>\n",
              "      <td>25.790000</td>\n",
              "      <td>24.040000</td>\n",
              "      <td>0.130000</td>\n",
              "      <td>0.606000</td>\n",
              "      <td>1.688837</td>\n",
              "      <td>79.300000</td>\n",
              "      <td>1.160000</td>\n",
              "      <td>32.350000</td>\n",
              "      <td>100.350000</td>\n",
              "    </tr>\n",
              "  </tbody>\n",
              "</table>\n",
              "</div>\n",
              "      <button class=\"colab-df-convert\" onclick=\"convertToInteractive('df-0346f379-a2a4-42d0-b8d5-1387f451418a')\"\n",
              "              title=\"Convert this dataframe to an interactive table.\"\n",
              "              style=\"display:none;\">\n",
              "        \n",
              "  <svg xmlns=\"http://www.w3.org/2000/svg\" height=\"24px\"viewBox=\"0 0 24 24\"\n",
              "       width=\"24px\">\n",
              "    <path d=\"M0 0h24v24H0V0z\" fill=\"none\"/>\n",
              "    <path d=\"M18.56 5.44l.94 2.06.94-2.06 2.06-.94-2.06-.94-.94-2.06-.94 2.06-2.06.94zm-11 1L8.5 8.5l.94-2.06 2.06-.94-2.06-.94L8.5 2.5l-.94 2.06-2.06.94zm10 10l.94 2.06.94-2.06 2.06-.94-2.06-.94-.94-2.06-.94 2.06-2.06.94z\"/><path d=\"M17.41 7.96l-1.37-1.37c-.4-.4-.92-.59-1.43-.59-.52 0-1.04.2-1.43.59L10.3 9.45l-7.72 7.72c-.78.78-.78 2.05 0 2.83L4 21.41c.39.39.9.59 1.41.59.51 0 1.02-.2 1.41-.59l7.78-7.78 2.81-2.81c.8-.78.8-2.07 0-2.86zM5.41 20L4 18.59l7.72-7.72 1.47 1.35L5.41 20z\"/>\n",
              "  </svg>\n",
              "      </button>\n",
              "      \n",
              "  <style>\n",
              "    .colab-df-container {\n",
              "      display:flex;\n",
              "      flex-wrap:wrap;\n",
              "      gap: 12px;\n",
              "    }\n",
              "\n",
              "    .colab-df-convert {\n",
              "      background-color: #E8F0FE;\n",
              "      border: none;\n",
              "      border-radius: 50%;\n",
              "      cursor: pointer;\n",
              "      display: none;\n",
              "      fill: #1967D2;\n",
              "      height: 32px;\n",
              "      padding: 0 0 0 0;\n",
              "      width: 32px;\n",
              "    }\n",
              "\n",
              "    .colab-df-convert:hover {\n",
              "      background-color: #E2EBFA;\n",
              "      box-shadow: 0px 1px 2px rgba(60, 64, 67, 0.3), 0px 1px 3px 1px rgba(60, 64, 67, 0.15);\n",
              "      fill: #174EA6;\n",
              "    }\n",
              "\n",
              "    [theme=dark] .colab-df-convert {\n",
              "      background-color: #3B4455;\n",
              "      fill: #D2E3FC;\n",
              "    }\n",
              "\n",
              "    [theme=dark] .colab-df-convert:hover {\n",
              "      background-color: #434B5C;\n",
              "      box-shadow: 0px 1px 3px 1px rgba(0, 0, 0, 0.15);\n",
              "      filter: drop-shadow(0px 1px 2px rgba(0, 0, 0, 0.3));\n",
              "      fill: #FFFFFF;\n",
              "    }\n",
              "  </style>\n",
              "\n",
              "      <script>\n",
              "        const buttonEl =\n",
              "          document.querySelector('#df-0346f379-a2a4-42d0-b8d5-1387f451418a button.colab-df-convert');\n",
              "        buttonEl.style.display =\n",
              "          google.colab.kernel.accessAllowed ? 'block' : 'none';\n",
              "\n",
              "        async function convertToInteractive(key) {\n",
              "          const element = document.querySelector('#df-0346f379-a2a4-42d0-b8d5-1387f451418a');\n",
              "          const dataTable =\n",
              "            await google.colab.kernel.invokeFunction('convertToInteractive',\n",
              "                                                     [key], {});\n",
              "          if (!dataTable) return;\n",
              "\n",
              "          const docLinkHtml = 'Like what you see? Visit the ' +\n",
              "            '<a target=\"_blank\" href=https://colab.research.google.com/notebooks/data_table.ipynb>data table notebook</a>'\n",
              "            + ' to learn more about interactive tables.';\n",
              "          element.innerHTML = '';\n",
              "          dataTable['output_type'] = 'display_data';\n",
              "          await google.colab.output.renderOutput(dataTable, element);\n",
              "          const docLink = document.createElement('div');\n",
              "          docLink.innerHTML = docLinkHtml;\n",
              "          element.appendChild(docLink);\n",
              "        }\n",
              "      </script>\n",
              "    </div>\n",
              "  </div>\n",
              "  "
            ]
          },
          "metadata": {},
          "execution_count": 96
        }
      ]
    },
    {
      "cell_type": "markdown",
      "source": [
        "VARIANCE THRESHOLD"
      ],
      "metadata": {
        "id": "u3tDUe5PcTpY"
      }
    },
    {
      "cell_type": "code",
      "source": [
        "ARRAY= FILE[['AGE', 'AMV', 'Met', 'Clo', 'Dewpt', 'PlaneRadTemp', 'Ta', 'Tmrt', 'Vel', 'AirTurb', 'Pa', 'Rh', 'PMV', 'TaOutdoor', 'RhOutdoor']]"
      ],
      "metadata": {
        "id": "EbBzgsDecMJ2"
      },
      "execution_count": null,
      "outputs": []
    },
    {
      "cell_type": "code",
      "source": [
        "v_t = VarianceThreshold(threshold = 0)"
      ],
      "metadata": {
        "id": "ZkPmkwA3cYse"
      },
      "execution_count": null,
      "outputs": []
    },
    {
      "cell_type": "code",
      "source": [
        "v_t.fit(ARRAY)"
      ],
      "metadata": {
        "colab": {
          "base_uri": "https://localhost:8080/"
        },
        "id": "pE2qLXv5cb2K",
        "outputId": "52eee8b2-7074-4d21-95f2-2bb0d54ab5de"
      },
      "execution_count": null,
      "outputs": [
        {
          "output_type": "execute_result",
          "data": {
            "text/plain": [
              "VarianceThreshold(threshold=0)"
            ]
          },
          "metadata": {},
          "execution_count": 100
        }
      ]
    },
    {
      "cell_type": "code",
      "source": [
        "v_t.get_support()"
      ],
      "metadata": {
        "colab": {
          "base_uri": "https://localhost:8080/"
        },
        "id": "tyJqNr22ceQm",
        "outputId": "e09ae150-0acb-435e-bf18-a3be097109ad"
      },
      "execution_count": null,
      "outputs": [
        {
          "output_type": "execute_result",
          "data": {
            "text/plain": [
              "array([ True,  True,  True,  True,  True,  True,  True,  True,  True,\n",
              "        True,  True,  True,  True,  True,  True])"
            ]
          },
          "metadata": {},
          "execution_count": 101
        }
      ]
    },
    {
      "cell_type": "markdown",
      "source": [
        "MAKING HEATMAP AGAIN"
      ],
      "metadata": {
        "id": "6AOqtTE2cqi6"
      }
    },
    {
      "cell_type": "code",
      "source": [
        "fig, ax = plt.subplots(figsize=(5, 5))\n",
        "sns.heatmap(FILE.corr(), annot = True)"
      ],
      "metadata": {
        "colab": {
          "base_uri": "https://localhost:8080/",
          "height": 404
        },
        "id": "53hysrewcs6o",
        "outputId": "fb944451-ef4b-4227-d37f-57a31761c5e8"
      },
      "execution_count": null,
      "outputs": [
        {
          "output_type": "execute_result",
          "data": {
            "text/plain": [
              "<matplotlib.axes._subplots.AxesSubplot at 0x7f8c63a68160>"
            ]
          },
          "metadata": {},
          "execution_count": 104
        },
        {
          "output_type": "display_data",
          "data": {
            "text/plain": [
              "<Figure size 360x360 with 2 Axes>"
            ],
            "image/png": "[encoded data removed]"
          },
          "metadata": {
            "needs_background": "light"
          }
        }
      ]
    },
    {
      "cell_type": "markdown",
      "source": [
        "CALCULATING ENTROPY"
      ],
      "metadata": {
        "id": "mcQn-vT7dDi0"
      }
    },
    {
      "cell_type": "code",
      "source": [
        "FILE = FILE.drop(labels = ['Dewpt', 'PlaneRadTemp', 'Ta', 'Tmrt'], axis = 1)"
      ],
      "metadata": {
        "id": "1pu1b7wxctg6"
      },
      "execution_count": null,
      "outputs": []
    },
    {
      "cell_type": "markdown",
      "source": [
        "DEFINING FUNCTION THAT WILL CALCULATE ENTROPY"
      ],
      "metadata": {
        "id": "2ag5mSxMdLr6"
      }
    },
    {
      "cell_type": "code",
      "source": [
        "def calculate_entropy(COLUMN):\n",
        "    prob = COLUMN.value_counts(normalize = True)\n",
        "    entropy = -1 * np.sum(np.log2(prob) * prob)\n",
        "    return round(entropy, 3)"
      ],
      "metadata": {
        "id": "qT8mk1YndHkg"
      },
      "execution_count": null,
      "outputs": []
    },
    {
      "cell_type": "code",
      "source": [
        "print('Entropy of Age Column: {}'.format(calculate_entropy(FILE['AGE'])))\n",
        "print('Entropy of AMV Column: {}'.format(calculate_entropy(FILE['AMV'])))\n",
        "print('Entropy of PMV Column: {}'.format(calculate_entropy(FILE['PMV'])))\n",
        "print('Entropy of Clo Column: {}'.format(calculate_entropy(FILE['Clo'])))\n",
        "print('Entropy of Rh Column: {}'.format(calculate_entropy(FILE['Rh'])))\n",
        "print('Entropy of Pa Column: {}'.format(calculate_entropy(FILE['Pa'])))\n",
        "print('Entropy of Vel Column: {}'.format(calculate_entropy(FILE['Vel'])))\n",
        "print('Entropy of AirTurb Column: {}'.format(calculate_entropy(FILE['AirTurb'])))\n",
        "print('Entropy of Met Column: {}'.format(calculate_entropy(FILE['Met'])))\n",
        "print('Entropy of TaOutdoor Column: {}'.format(calculate_entropy(FILE['TaOutdoor'])))\n",
        "\n",
        "\n",
        "\n"
      ],
      "metadata": {
        "colab": {
          "base_uri": "https://localhost:8080/"
        },
        "id": "2r1BoD8UdTYm",
        "outputId": "17892d07-07f4-43e0-c367-9cc62cfe9adb"
      },
      "execution_count": null,
      "outputs": [
        {
          "output_type": "stream",
          "name": "stdout",
          "text": [
            "Entropy of Age Column: 2.873\n",
            "Entropy of AMV Column: 3.525\n",
            "Entropy of PMV Column: 7.499\n",
            "Entropy of Clo Column: 6.526\n",
            "Entropy of Rh Column: 10.962\n",
            "Entropy of Pa Column: 5.157\n",
            "Entropy of Vel Column: 3.709\n",
            "Entropy of AirTurb Column: 3.257\n",
            "Entropy of Met Column: 4.675\n",
            "Entropy of TaOutdoor Column: 7.743\n"
          ]
        }
      ]
    },
    {
      "cell_type": "markdown",
      "source": [
        "CALCULATING GAIN"
      ],
      "metadata": {
        "id": "2CGFdGzyegfy"
      }
    },
    {
      "cell_type": "code",
      "source": [
        "def calculate_IG(df, target, feature):\n",
        "    target_entropy = calculate_entropy(df[target])\n",
        "    entropy_list = []\n",
        "    weight_list = []\n",
        "    for i in df[feature].unique():\n",
        "        feature_level = df[df[feature] == i]\n",
        "        entropy_level = calculate_entropy(feature_level[target])\n",
        "        entropy_list.append(round(entropy_level, 3))\n",
        "        weight_level = len(feature_level) / len(df)\n",
        "        weight_list.append(round(weight_level, 3))\n",
        "    remaining_entropy = np.sum(np.array(entropy_list) * np.array(weight_list))\n",
        "    information_gain = target_entropy - remaining_entropy\n",
        "    return information_gain"
      ],
      "metadata": {
        "id": "el7Wc8uBdwt3"
      },
      "execution_count": null,
      "outputs": []
    },
    {
      "cell_type": "code",
      "source": [
        "FILE['AMV'] = FILE['AMV'].astype(int)\n",
        "for i in FILE.drop(columns = 'AMV').columns:\n",
        "    info_gain = calculate_IG(FILE, 'AMV', i)\n",
        "    print(i)\n",
        "    print(round(info_gain, 3))"
      ],
      "metadata": {
        "colab": {
          "base_uri": "https://localhost:8080/"
        },
        "id": "X6yPBOxmei3u",
        "outputId": "5978765a-0e70-4c5b-e90c-b63b0a8d4586"
      },
      "execution_count": null,
      "outputs": [
        {
          "output_type": "stream",
          "name": "stdout",
          "text": [
            "AGE\n",
            "0.017\n",
            "Met\n",
            "0.265\n",
            "Clo\n",
            "0.226\n",
            "Vel\n",
            "0.167\n",
            "AirTurb\n",
            "0.288\n",
            "Pa\n",
            "0.658\n",
            "Rh\n",
            "1.219\n",
            "PMV\n",
            "0.246\n",
            "TaOutdoor\n",
            "0.399\n",
            "RhOutdoor\n",
            "0.386\n"
          ]
        }
      ]
    },
    {
      "cell_type": "code",
      "source": [],
      "metadata": {
        "id": "8oLNvKMKep8B"
      },
      "execution_count": null,
      "outputs": []
    },
    {
      "cell_type": "markdown",
      "source": [
        "***************************************************"
      ],
      "metadata": {
        "id": "CAuXwt6ue4OW"
      }
    },
    {
      "cell_type": "code",
      "source": [
        "df=FILE\n",
        "X = FILE[['AGE', 'Met', 'Clo','Vel', 'AirTurb', 'Pa', 'Rh', 'TaOutdoor', 'RhOutdoor']]"
      ],
      "metadata": {
        "id": "iZttr8bTe5Nt"
      },
      "execution_count": null,
      "outputs": []
    },
    {
      "cell_type": "code",
      "source": [
        "y = df.drop(X, axis = 1)"
      ],
      "metadata": {
        "id": "wlAYZY5-e7SN"
      },
      "execution_count": null,
      "outputs": []
    },
    {
      "cell_type": "code",
      "source": [
        "y.head()"
      ],
      "metadata": {
        "colab": {
          "base_uri": "https://localhost:8080/",
          "height": 215
        },
        "id": "z3KsZ95ofDYN",
        "outputId": "c11e6f44-c4e3-4977-ec34-76b602cb7253"
      },
      "execution_count": null,
      "outputs": [
        {
          "output_type": "execute_result",
          "data": {
            "text/plain": [
              "   AMV   PMV\n",
              "0    2  0.51\n",
              "1    1  0.80\n",
              "2    3  0.76\n",
              "3    3 -0.04\n",
              "4    1  0.97"
            ],
            "text/html": [
              "\n",
              "  <div id=\"df-a2f831b5-0d8a-4855-8aca-be8504409815\">\n",
              "    <div class=\"colab-df-container\">\n",
              "      <div>\n",
              "<style scoped>\n",
              "    .dataframe tbody tr th:only-of-type {\n",
              "        vertical-align: middle;\n",
              "    }\n",
              "\n",
              "    .dataframe tbody tr th {\n",
              "        vertical-align: top;\n",
              "    }\n",
              "\n",
              "    .dataframe thead th {\n",
              "        text-align: right;\n",
              "    }\n",
              "</style>\n",
              "<table border=\"1\" class=\"dataframe\">\n",
              "  <thead>\n",
              "    <tr style=\"text-align: right;\">\n",
              "      <th></th>\n",
              "      <th>AMV</th>\n",
              "      <th>PMV</th>\n",
              "    </tr>\n",
              "  </thead>\n",
              "  <tbody>\n",
              "    <tr>\n",
              "      <th>0</th>\n",
              "      <td>2</td>\n",
              "      <td>0.51</td>\n",
              "    </tr>\n",
              "    <tr>\n",
              "      <th>1</th>\n",
              "      <td>1</td>\n",
              "      <td>0.80</td>\n",
              "    </tr>\n",
              "    <tr>\n",
              "      <th>2</th>\n",
              "      <td>3</td>\n",
              "      <td>0.76</td>\n",
              "    </tr>\n",
              "    <tr>\n",
              "      <th>3</th>\n",
              "      <td>3</td>\n",
              "      <td>-0.04</td>\n",
              "    </tr>\n",
              "    <tr>\n",
              "      <th>4</th>\n",
              "      <td>1</td>\n",
              "      <td>0.97</td>\n",
              "    </tr>\n",
              "  </tbody>\n",
              "</table>\n",
              "</div>\n",
              "      <button class=\"colab-df-convert\" onclick=\"convertToInteractive('df-a2f831b5-0d8a-4855-8aca-be8504409815')\"\n",
              "              title=\"Convert this dataframe to an interactive table.\"\n",
              "              style=\"display:none;\">\n",
              "        \n",
              "  <svg xmlns=\"http://www.w3.org/2000/svg\" height=\"24px\"viewBox=\"0 0 24 24\"\n",
              "       width=\"24px\">\n",
              "    <path d=\"M0 0h24v24H0V0z\" fill=\"none\"/>\n",
              "    <path d=\"M18.56 5.44l.94 2.06.94-2.06 2.06-.94-2.06-.94-.94-2.06-.94 2.06-2.06.94zm-11 1L8.5 8.5l.94-2.06 2.06-.94-2.06-.94L8.5 2.5l-.94 2.06-2.06.94zm10 10l.94 2.06.94-2.06 2.06-.94-2.06-.94-.94-2.06-.94 2.06-2.06.94z\"/><path d=\"M17.41 7.96l-1.37-1.37c-.4-.4-.92-.59-1.43-.59-.52 0-1.04.2-1.43.59L10.3 9.45l-7.72 7.72c-.78.78-.78 2.05 0 2.83L4 21.41c.39.39.9.59 1.41.59.51 0 1.02-.2 1.41-.59l7.78-7.78 2.81-2.81c.8-.78.8-2.07 0-2.86zM5.41 20L4 18.59l7.72-7.72 1.47 1.35L5.41 20z\"/>\n",
              "  </svg>\n",
              "      </button>\n",
              "      \n",
              "  <style>\n",
              "    .colab-df-container {\n",
              "      display:flex;\n",
              "      flex-wrap:wrap;\n",
              "      gap: 12px;\n",
              "    }\n",
              "\n",
              "    .colab-df-convert {\n",
              "      background-color: #E8F0FE;\n",
              "      border: none;\n",
              "      border-radius: 50%;\n",
              "      cursor: pointer;\n",
              "      display: none;\n",
              "      fill: #1967D2;\n",
              "      height: 32px;\n",
              "      padding: 0 0 0 0;\n",
              "      width: 32px;\n",
              "    }\n",
              "\n",
              "    .colab-df-convert:hover {\n",
              "      background-color: #E2EBFA;\n",
              "      box-shadow: 0px 1px 2px rgba(60, 64, 67, 0.3), 0px 1px 3px 1px rgba(60, 64, 67, 0.15);\n",
              "      fill: #174EA6;\n",
              "    }\n",
              "\n",
              "    [theme=dark] .colab-df-convert {\n",
              "      background-color: #3B4455;\n",
              "      fill: #D2E3FC;\n",
              "    }\n",
              "\n",
              "    [theme=dark] .colab-df-convert:hover {\n",
              "      background-color: #434B5C;\n",
              "      box-shadow: 0px 1px 3px 1px rgba(0, 0, 0, 0.15);\n",
              "      filter: drop-shadow(0px 1px 2px rgba(0, 0, 0, 0.3));\n",
              "      fill: #FFFFFF;\n",
              "    }\n",
              "  </style>\n",
              "\n",
              "      <script>\n",
              "        const buttonEl =\n",
              "          document.querySelector('#df-a2f831b5-0d8a-4855-8aca-be8504409815 button.colab-df-convert');\n",
              "        buttonEl.style.display =\n",
              "          google.colab.kernel.accessAllowed ? 'block' : 'none';\n",
              "\n",
              "        async function convertToInteractive(key) {\n",
              "          const element = document.querySelector('#df-a2f831b5-0d8a-4855-8aca-be8504409815');\n",
              "          const dataTable =\n",
              "            await google.colab.kernel.invokeFunction('convertToInteractive',\n",
              "                                                     [key], {});\n",
              "          if (!dataTable) return;\n",
              "\n",
              "          const docLinkHtml = 'Like what you see? Visit the ' +\n",
              "            '<a target=\"_blank\" href=https://colab.research.google.com/notebooks/data_table.ipynb>data table notebook</a>'\n",
              "            + ' to learn more about interactive tables.';\n",
              "          element.innerHTML = '';\n",
              "          dataTable['output_type'] = 'display_data';\n",
              "          await google.colab.output.renderOutput(dataTable, element);\n",
              "          const docLink = document.createElement('div');\n",
              "          docLink.innerHTML = docLinkHtml;\n",
              "          element.appendChild(docLink);\n",
              "        }\n",
              "      </script>\n",
              "    </div>\n",
              "  </div>\n",
              "  "
            ]
          },
          "metadata": {},
          "execution_count": 122
        }
      ]
    },
    {
      "cell_type": "code",
      "source": [
        "X_train, X_test, y_train, y_test = train_test_split(X, y, test_size = 0.20, random_state = 101)"
      ],
      "metadata": {
        "id": "Ezh4pkXYfHHW"
      },
      "execution_count": null,
      "outputs": []
    },
    {
      "cell_type": "code",
      "source": [
        "object = MinMaxScaler()\n",
        "object.fit_transform(X_train)"
      ],
      "metadata": {
        "colab": {
          "base_uri": "https://localhost:8080/"
        },
        "id": "d7loaLLkfKq_",
        "outputId": "a6724486-e34e-4480-83ce-0fddb051b720"
      },
      "execution_count": null,
      "outputs": [
        {
          "output_type": "execute_result",
          "data": {
            "text/plain": [
              "array([[0.57142857, 0.79400293, 0.51482353, ..., 0.55898833, 0.86724891,\n",
              "        0.67918677],\n",
              "       [0.83333333, 0.72642857, 0.84705882, ..., 0.36385873, 0.64454148,\n",
              "        0.55206776],\n",
              "       [0.83333333, 0.72642857, 0.82352941, ..., 0.15634555, 0.43144105,\n",
              "        0.73492775],\n",
              "       ...,\n",
              "       [0.47619048, 0.99268649, 0.70788235, ..., 0.63391013, 0.72227074,\n",
              "        0.62282013],\n",
              "       [0.57142857, 0.64285714, 0.74611765, ..., 0.81868215, 0.91625425,\n",
              "        0.81265571],\n",
              "       [0.83333333, 0.78571429, 0.62352941, ..., 0.61685426, 0.77379913,\n",
              "        0.81215745]])"
            ]
          },
          "metadata": {},
          "execution_count": 124
        }
      ]
    },
    {
      "cell_type": "code",
      "source": [
        "object.fit_transform(X_test)"
      ],
      "metadata": {
        "colab": {
          "base_uri": "https://localhost:8080/"
        },
        "id": "Yn4-xplrfNvY",
        "outputId": "ac2d4ec2-a31c-4189-caa5-a08f1bd0febb"
      },
      "execution_count": null,
      "outputs": [
        {
          "output_type": "execute_result",
          "data": {
            "text/plain": [
              "array([[0.5952381 , 0.72642857, 0.78823529, ..., 0.3020979 , 0.45327511,\n",
              "        0.68510214],\n",
              "       [0.47619048, 0.85080449, 0.38823529, ..., 0.74405594, 0.92227074,\n",
              "        0.69257598],\n",
              "       [0.83333333, 0.        , 0.70788235, ..., 0.1972028 , 0.75283843,\n",
              "        0.        ],\n",
              "       ...,\n",
              "       [0.73809524, 0.7367138 , 0.59618824, ..., 0.65529062, 0.96069869,\n",
              "        0.54663271],\n",
              "       [0.5952381 , 0.72642857, 0.75294118, ..., 0.24195804, 0.3371179 ,\n",
              "        0.49626308],\n",
              "       [0.61904762, 0.63798147, 0.84705882, ..., 0.7020979 , 0.7580786 ,\n",
              "        0.60787245]])"
            ]
          },
          "metadata": {},
          "execution_count": 125
        }
      ]
    },
    {
      "cell_type": "code",
      "source": [
        "p_x = df[['AGE', 'Vel', 'AirTurb', 'Pa', 'Rh', 'TaOutdoor', 'RhOutdoor']]"
      ],
      "metadata": {
        "id": "GDUTfVe_fRBi"
      },
      "execution_count": null,
      "outputs": []
    },
    {
      "cell_type": "code",
      "source": [
        "p_y = df['PMV']"
      ],
      "metadata": {
        "id": "havhkksKfUlV"
      },
      "execution_count": null,
      "outputs": []
    },
    {
      "cell_type": "code",
      "source": [
        "f_s = sfs(LinearRegression(), n_features_to_select = 5, direction = 'forward')"
      ],
      "metadata": {
        "id": "InwGzTNpfpxm"
      },
      "execution_count": null,
      "outputs": []
    },
    {
      "cell_type": "code",
      "source": [
        "f_s.fit(p_x, p_y)"
      ],
      "metadata": {
        "colab": {
          "base_uri": "https://localhost:8080/"
        },
        "id": "5CrnBbPRfrZx",
        "outputId": "364a3829-e435-4ffb-8d09-97c0955f2187"
      },
      "execution_count": null,
      "outputs": [
        {
          "output_type": "execute_result",
          "data": {
            "text/plain": [
              "SequentialFeatureSelector(estimator=LinearRegression(), n_features_to_select=5)"
            ]
          },
          "metadata": {},
          "execution_count": 130
        }
      ]
    },
    {
      "cell_type": "code",
      "source": [
        "f_s.get_support()"
      ],
      "metadata": {
        "colab": {
          "base_uri": "https://localhost:8080/"
        },
        "id": "iWva9ID1fs_6",
        "outputId": "1039f760-ca8e-4e81-e358-4031071799bc"
      },
      "execution_count": null,
      "outputs": [
        {
          "output_type": "execute_result",
          "data": {
            "text/plain": [
              "array([ True,  True,  True, False, False,  True,  True])"
            ]
          },
          "metadata": {},
          "execution_count": 131
        }
      ]
    },
    {
      "cell_type": "code",
      "source": [
        "X_train_pfs = X_train[['AGE', 'Pa', 'Rh', 'TaOutdoor', 'RhOutdoor']]"
      ],
      "metadata": {
        "id": "2ZhbZF76fuph"
      },
      "execution_count": null,
      "outputs": []
    },
    {
      "cell_type": "code",
      "source": [
        "y_train_pfs = y_train['PMV']"
      ],
      "metadata": {
        "id": "ve1giKsxfxuo"
      },
      "execution_count": null,
      "outputs": []
    },
    {
      "cell_type": "code",
      "source": [
        "X_test_pfs = X_test[['AGE', 'Pa', 'Rh', 'TaOutdoor', 'RhOutdoor']]"
      ],
      "metadata": {
        "id": "GhUoaJewf2UX"
      },
      "execution_count": null,
      "outputs": []
    },
    {
      "cell_type": "code",
      "source": [
        "y_test_pfs = y_test[['PMV']]\n",
        "lreg_ = LinearRegression()"
      ],
      "metadata": {
        "id": "_ixnHp41f4vj"
      },
      "execution_count": null,
      "outputs": []
    },
    {
      "cell_type": "code",
      "source": [
        "lreg_.fit(X_train_pfs, y_train_pfs)"
      ],
      "metadata": {
        "colab": {
          "base_uri": "https://localhost:8080/"
        },
        "id": "EuOnmuh3f6XI",
        "outputId": "bacd760e-4e99-475b-b4d8-5878e00a26e8"
      },
      "execution_count": null,
      "outputs": [
        {
          "output_type": "execute_result",
          "data": {
            "text/plain": [
              "LinearRegression()"
            ]
          },
          "metadata": {},
          "execution_count": 138
        }
      ]
    },
    {
      "cell_type": "code",
      "source": [
        "y_pred = lreg_.predict(X_test_pfs)"
      ],
      "metadata": {
        "id": "0arfclDAf_9f"
      },
      "execution_count": null,
      "outputs": []
    },
    {
      "cell_type": "code",
      "source": [
        "lreg_.score(X_test_pfs, y_pred)"
      ],
      "metadata": {
        "colab": {
          "base_uri": "https://localhost:8080/"
        },
        "id": "oNc9GxLGgBcW",
        "outputId": "64ccee2c-d6e0-4fab-f55a-583e68152fb7"
      },
      "execution_count": null,
      "outputs": [
        {
          "output_type": "execute_result",
          "data": {
            "text/plain": [
              "1.0"
            ]
          },
          "metadata": {},
          "execution_count": 140
        }
      ]
    },
    {
      "cell_type": "code",
      "source": [
        "b_s = sfs(LinearRegression(), n_features_to_select = 5, direction = 'backward')"
      ],
      "metadata": {
        "id": "JBf0-Dx_gDWe"
      },
      "execution_count": null,
      "outputs": []
    },
    {
      "cell_type": "code",
      "source": [
        "b_s.fit(p_x, p_y)"
      ],
      "metadata": {
        "colab": {
          "base_uri": "https://localhost:8080/"
        },
        "id": "XZCAacgXgE7b",
        "outputId": "d69372af-e958-4e44-c29b-747c1fd40d0f"
      },
      "execution_count": null,
      "outputs": [
        {
          "output_type": "execute_result",
          "data": {
            "text/plain": [
              "SequentialFeatureSelector(direction='backward', estimator=LinearRegression(),\n",
              "                          n_features_to_select=5)"
            ]
          },
          "metadata": {},
          "execution_count": 142
        }
      ]
    },
    {
      "cell_type": "code",
      "source": [
        "b_s.get_support()"
      ],
      "metadata": {
        "colab": {
          "base_uri": "https://localhost:8080/"
        },
        "id": "USpQg0LmgGeU",
        "outputId": "6f01c459-9c9c-425e-dbcf-a2994bfe69d9"
      },
      "execution_count": null,
      "outputs": [
        {
          "output_type": "execute_result",
          "data": {
            "text/plain": [
              "array([ True,  True,  True, False, False,  True,  True])"
            ]
          },
          "metadata": {},
          "execution_count": 143
        }
      ]
    },
    {
      "cell_type": "code",
      "source": [
        "X_train_pbs = X_train[['AGE', 'Pa', 'Rh', 'TaOutdoor', 'RhOutdoor']]"
      ],
      "metadata": {
        "id": "6FmSF28qgIYH"
      },
      "execution_count": null,
      "outputs": []
    },
    {
      "cell_type": "code",
      "source": [
        "y_train_pbs = y_train['PMV']"
      ],
      "metadata": {
        "id": "AVPW5kH9gMnM"
      },
      "execution_count": null,
      "outputs": []
    },
    {
      "cell_type": "code",
      "source": [
        "X_test_pbs = X_test[['AGE', 'Pa', 'Rh', 'TaOutdoor', 'RhOutdoor']]"
      ],
      "metadata": {
        "id": "jgNJT1QKgOVV"
      },
      "execution_count": null,
      "outputs": []
    },
    {
      "cell_type": "code",
      "source": [],
      "metadata": {
        "id": "3Hkd4mNVgQXQ"
      },
      "execution_count": null,
      "outputs": []
    }
  ],
  "metadata": {
    "kernelspec": {
      "display_name": "Python 3.9.13 ('base': conda)",
      "language": "python",
      "name": "python3"
    },
    "language_info": {
      "name": "python",
      "version": "3.9.13"
    },
    "orig_nbformat": 4,
    "vscode": {
      "interpreter": {
        "hash": "98eabb4ecb079f6ab10f8dee230a66b2a15b8304706421bed2d37b91eaa48f37"
      }
    },
    "colab": {
      "provenance": [],
      "include_colab_link": true
    }
  },
  "nbformat": 4,
  "nbformat_minor": 0
}